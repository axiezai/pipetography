{
 "cells": [
  {
   "cell_type": "code",
   "execution_count": null,
   "metadata": {},
   "outputs": [
    {
     "name": "stdout",
     "output_type": "stream",
     "text": [
      "200221-17:07:27,624 nipype.utils INFO:\n",
      "\t No new version available.\n"
     ]
    }
   ],
   "source": [
    "#hide\n",
    "from pipetography.core import *"
   ]
  },
  {
   "cell_type": "markdown",
   "metadata": {},
   "source": [
    "# Pipetography\n",
    "\n",
    "> Nipype and mrtrix3 based pre-/post- processing pipeline for brain diffusion-MRI and generation of structural connectomes of the brain."
   ]
  },
  {
   "cell_type": "markdown",
   "metadata": {},
   "source": [
    "This file will become your README and also the index of your documentation."
   ]
  },
  {
   "cell_type": "markdown",
   "metadata": {},
   "source": [
    "## Install"
   ]
  },
  {
   "cell_type": "markdown",
   "metadata": {},
   "source": [
    "This pip install function doesn't work yet! Don't do it! It will work with the first release!\n",
    "`pip install pipetography`\n",
    "\n",
    "Since `pipetography` is a `Nipype` wrapper around `mrtrix3`, `ANTs`, and `FSL`, you have to follow their installation instructions:    \n",
    " - [mrtrix3](https://mrtrix.readthedocs.io/en/latest/installation/before_install.html)\n",
    " \n",
    " - [ANTs](https://github.com/ANTsX/ANTs/wiki/Compiling-ANTs-on-Linux-and-Mac-OS)\n",
    "     \n",
    " - [FSL](https://fsl.fmrib.ox.ac.uk/fsl/fslwiki/FslInstallation)"
   ]
  },
  {
   "cell_type": "markdown",
   "metadata": {},
   "source": [
    "## How to use"
   ]
  },
  {
   "cell_type": "markdown",
   "metadata": {},
   "source": [
    "#### Use as connected Nipype nodes for DWI preprocessing\n",
    "We will wrap all of our tasks in `Nipype`'s `Nodes`\n",
    "\n",
    "Nipype wraps the tasks into Nodes and connects them into an automated workflow that can run parallel tasks, the preprocessing workflow includes several functions, some of which require user inputs. We will go over them here, first we need to provide where our subject files are, we recommend using BIDS format subject directories, from which we can create a `layout` with `PyBIDS`:"
   ]
  },
  {
   "cell_type": "code",
   "execution_count": null,
   "metadata": {},
   "outputs": [
    {
     "name": "stdout",
     "output_type": "stream",
     "text": [
      "Creating layout of data directory, might take a while if there are a lot of subjects\n",
      "['11048']\n"
     ]
    }
   ],
   "source": [
    "import os, sys\n",
    "\n",
    "data_dir = 'data'\n",
    "sub_list = get_subs(data_dir) # this gets all subjects in BIDS directory. For each subject, we need to iterate over all available sessions.\n",
    "print(sub_list)\n",
    "# we only have 1 subject for the sample dataset"
   ]
  },
  {
   "cell_type": "markdown",
   "metadata": {},
   "source": [
    "#### Subject data I/O:\n",
    "\n",
    "We need to use `Nipype`'s `IdentityInterface` and `SelectFiles` functionalities to iterable over subjects. The `iterables` function in `Nipype` can expand your workflow to each subject:"
   ]
  },
  {
   "cell_type": "code",
   "execution_count": null,
   "metadata": {},
   "outputs": [],
   "source": [
    "from nipype import IdentityInterface\n",
    "from nipype.pipeline import Node\n",
    "from nipype.interfaces.io import SelectFiles\n",
    "\n",
    "# IdentityInterface allows us to work with strings as input parameters\n",
    "sub_source = Node(IdentityInterface(fields = ['subject_id']), name = 'infosource')\n",
    "sub_source.iterables = [('subject_id', sub_list)]\n",
    "\n",
    "# Node for selecting files, we need to create a template to tell it what the file paths look like:\n",
    "dwi_file = os.path.join('sub-{subject_id}', 'ses-*', 'dwi', 'sub-{subject_id}_ses-*_dwi.nii.gz')\n",
    "bv_files = os.path.join('sub-{subject_id}', 'ses-1', 'dwi', 'sub-{subject_id}_ses-1_dwi.bv*')\n",
    "templates = {'dwi': dwi_file, 'bvs': bv_files}\n",
    "# then create Node:\n",
    "selectfiles = Node(SelectFiles(templates, base_directory = data_dir), name ='selectfiles')"
   ]
  },
  {
   "cell_type": "markdown",
   "metadata": {},
   "source": [
    "We need to also build `Nodes` that grabs `bvec` and `bval` files for our inputs:"
   ]
  },
  {
   "cell_type": "code",
   "execution_count": null,
   "metadata": {},
   "outputs": [],
   "source": [
    "from nipype import Function\n",
    "\n",
    "bvspath_getter = Node(Function(input_names=['in_List'],output_names=['out_path'], function = bfiles2tuple), name = 'BV_Getter')"
   ]
  },
  {
   "cell_type": "markdown",
   "metadata": {},
   "source": [
    "Lastly, we need to create an input `Node` for atlases! We use atlases to identify regions of interests (ROIs) after co-registering them onto our DWI images. For this example, we will use the Desikan-Killiany and Brainnectome atlases:"
   ]
  },
  {
   "cell_type": "code",
   "execution_count": null,
   "metadata": {},
   "outputs": [],
   "source": [
    "atlas_dir = 'atlases'\n",
    "\n",
    "atlas_template = {'atlas': atlas_dir + '{file_name}'}\n",
    "atlas_list = ['BN_Atlas_246_2mm.nii','DK_atlas86_1mm.nii'] # list of atlases you want to use\n",
    "atlas_file = Node(SelectFiles(atlas_template), name = 'select_atlas')\n",
    "atlas_file.base_directory = atlas_dir"
   ]
  },
  {
   "cell_type": "markdown",
   "metadata": {},
   "source": [
    "#### Preprocessing of DWI:\n",
    "\n",
    "Now we can finally start our first step: denoise!\n",
    "\n",
    "We will do this with `mrtrix3`'s `dwidenoise` function after wrapping it in a `MapNode`, these are Nodes that can handle several inputs/outputs with iterables:"
   ]
  },
  {
   "cell_type": "code",
   "execution_count": null,
   "metadata": {},
   "outputs": [],
   "source": [
    "denoise = MapNode(dwidenoise(), name = \"denoise\", iterfield = 'in_file')\n",
    "denoise.inputs.out_file = \"denoised.nii.gz\"\n",
    "denoise.inputs.noise = \"noise.nii.gz\"\n",
    "denoise.inputs.force = \"-force\" # in case there's previous outputs, we want to overwrite"
   ]
  }
 ],
 "metadata": {
  "kernelspec": {
   "display_name": "Python 3",
   "language": "python",
   "name": "python3"
  }
 },
 "nbformat": 4,
 "nbformat_minor": 4
}
