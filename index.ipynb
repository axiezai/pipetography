{
 "cells": [
  {
   "cell_type": "markdown",
   "metadata": {},
   "source": [
    "# Pipetography\n",
    "\n",
    "> Nipype and mrtrix3 based pre-/post- processing pipeline for brain diffusion-MRI and generation of structural connectomes of the brain."
   ]
  },
  {
   "cell_type": "markdown",
   "metadata": {},
   "source": [
    "![CI](https://github.com/axiezai/pipetography/workflows/CI/badge.svg)\n",
    "![docker](https://img.shields.io/docker/v/axiezai/pipetography)"
   ]
  },
  {
   "cell_type": "markdown",
   "metadata": {},
   "source": [
    "This repo currently only has pre-processing capabilities! More will be added in the near future.\n",
    "\n",
    "The pre-processing workflow has been updated to reflect what's seen in the optimal [DESIGNER pipeline](http://www.sciencedirect.com/science/article/pii/S1053811918306827) and on [mrtrix3 cloud apps on brainlife.io](https://brainlife.io). "
   ]
  },
  {
   "cell_type": "markdown",
   "metadata": {},
   "source": [
    "## Install"
   ]
  },
  {
   "cell_type": "markdown",
   "metadata": {},
   "source": [
    "Since most usages will be on HPC resources, I <em>highly recommend</em> that you use the `Singularity` or `Docker` recipe in the repository instead of installing the Python module.\n",
    "\n",
    "#### Singularity:\n",
    "\n",
    " - Currently has pathing issues as seen in the singularity issues page: https://github.com/hpcng/singularity/issues/5040, the 3.6 release candidate should fix this... For now, use docker image if you can. If not, the singularity container will not be able to execute freesurfer `recon-all` step of the workflow. All DWI preprocessing steps will work though.\n",
    " \n",
    " - This is a large image, you will need to set the following environment variables to somewhere other than `/tmp`:\n",
    "     - `export SINGULARITY_TMPDIR={YOUR DESTINATION DIR}`\n",
    "     - `export SINGULARITY_LOCALCACHEDIR={YOUR DESTINATION DIR}`\n",
    "     - `export SINGULARITY_CACHEDIR={YOUR DESTINATION DIR}`\n",
    "     - `export SINGULARITY_PULLFOLDER={YOUR DESTINATION DIR}`\n",
    "     \n",
    " - Obtain the singularity image with `singularity pull docker://axiezai/pipetography:0.3.1`.\n",
    " \n",
    " - Run interactively with `singularity shell --nv --B <BIDS_DIR>:<SINGULARITY_BIDS_DIR> {Path to singularity .sif}`\n",
    " \n",
    "#### Docker:\n",
    "\n",
    " - Pull the docker image: `docker pull axiezai/pipetography:0.3.1`\n",
    " \n",
    " - Run with BIDS directory and interactive bash terminal: `docker run -v <BIDS_DIR>:<Docker_BIDS_DIR> -it axiezai/pipetography:0.3.1 bash`\n",
    "\n",
    "Known container issues:\n",
    " - Singularity image missing freesurfer path to `nu_correct` as part of `$PATH`. \n",
    "\n",
    " - If `singularity build` fails with `apt-get install` error complaining about unauthenticated packages, add `--allow-unauthenticated` to every `apt-get` line in the `sinngularity.def` file.\n",
    " \n",
    "#### Creating your own environment and install `pipetography` as a Python module:\n",
    "\n",
    "`pip install pipetography`\n",
    "\n",
    "Since `pipetography` is a `Nipype` wrapper around `mrtrix3`, `ANTs`, and `FSL`, you have to follow their installation instructions and set them up appropriately on your machine as well:    \n",
    " - [mrtrix3 v3.0.0](https://mrtrix.readthedocs.io/en/latest/installation/before_install.html)\n",
    " \n",
    " - [ANTs](https://github.com/ANTsX/ANTs/wiki/Compiling-ANTs-on-Linux-and-Mac-OS)\n",
    "     \n",
    " - [FSL](https://fsl.fmrib.ox.ac.uk/fsl/fslwiki/FslInstallation)\n",
    " \n",
    " - [Freesurfer v6.0](https://surfer.nmr.mgh.harvard.edu/fswiki/DownloadAndInstall)\n",
    " \n",
    " - [Matlab Run Time Compiler for freesurfer](https://surfer.nmr.mgh.harvard.edu/fswiki/MatlabRuntime)\n",
    " "
   ]
  },
  {
   "cell_type": "markdown",
   "metadata": {},
   "source": [
    "## The pipeline:"
   ]
  },
  {
   "cell_type": "markdown",
   "metadata": {},
   "source": [
    "Currently supports acquisitions with no reverse phase encoding (`-rpe_none`)  and reverse phase encoding in all DWI directions (`-rpe_all`) options."
   ]
  }
 ],
 "metadata": {
  "kernelspec": {
   "display_name": "Python 3",
   "language": "python",
   "name": "python3"
  }
 },
 "nbformat": 4,
 "nbformat_minor": 4
}
