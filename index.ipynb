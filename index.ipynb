{
 "cells": [
  {
   "cell_type": "markdown",
   "metadata": {},
   "source": [
    "# Pipetography\n",
    "\n",
    "> Nipype and mrtrix3 based pre-/post- processing pipeline for brain diffusion-MRI and generation of structural connectomes of the brain."
   ]
  },
  {
   "cell_type": "markdown",
   "metadata": {},
   "source": [
    "![CI](https://github.com/axiezai/pipetography/workflows/CI/badge.svg)\n",
    "![docker](https://img.shields.io/docker/v/axiezai/pipetography)"
   ]
  },
  {
   "cell_type": "markdown",
   "metadata": {},
   "source": [
    "The pre-processing pipeline has been updated to reflect what's seen in the optimal [DESIGNER pipeline](http://www.sciencedirect.com/science/article/pii/S1053811918306827) and on [mrtrix3 cloud apps on brainlife.io](https://brainlife.io). \n",
    "\n",
    "The post-processing pipeline, including co-registration of atlases and connectome generation is now included in the [connectomes](https://axiezai.github.io/pipetography/connectomes.html) module"
   ]
  },
  {
   "cell_type": "markdown",
   "metadata": {},
   "source": [
    "## Install"
   ]
  },
  {
   "cell_type": "markdown",
   "metadata": {},
   "source": [
    "Since most usages will be on HPC resources, I <em>highly recommend</em> that you use the `Singularity` definition file in the repository instead of installing the Python module.\n",
    "\n",
    "### Singularity:\n",
    " \n",
    " - This is a large image, you will need to set the following environment variables to somewhere other than `/tmp` if you want to avoid memory errors:\n",
    "     - `export SINGULARITY_TMPDIR={YOUR DESTINATION DIR}`\n",
    "     - `export SINGULARITY_LOCALCACHEDIR={YOUR DESTINATION DIR}`\n",
    "     - `export SINGULARITY_CACHEDIR={YOUR DESTINATION DIR}`\n",
    "     - `export SINGULARITY_PULLFOLDER={YOUR DESTINATION DIR}`\n",
    "     \n",
    " - Build the singularity image with the `singularity.def` file provided in Github, you will need to have `sudo` permissions to perform singularity build. If you run into memory problems, consider building as a sandbox at first with the `-s` flag. \n",
    "     - `sudo singularity build {image_file_name}.sif singularity.def`\n",
    "     \n",
    " - OR pull the built singularity image from cloud library:\n",
    "    - `singularity pull --arch amd64 library://axiezai/pipetography/pipetography-fsl6.0.3:latest`\n",
    "\n",
    "### Docker:\n",
    "\n",
    " - Docker often encounters permission problems on HPC resources, using the docker container is only recommended if you have `sudo` permissions to the machine. \n",
    " - `docker pull axiezai/pipetography:0.3.9`\n",
    " \n",
    "### Usage:\n",
    " - To run the singularity container interactively, you will need a few flags:\n",
    "     - `-e` flag for a clean environnment upon container start\n",
    "     - `-B` flag to bind your BIDS directory into the container.\n",
    " - Example: \n",
    "     - `singularity shell -e -B <BIDS_DIR>:<SINGULARITY_BIDS_DIR> {Path to singularity .sif}` will start an interactive shell.\n",
    "     - `singualrity exec -e -B <BIDS_DIR>:<SINGULARITY_BIDS_DIR> {Path to singularity .sif} python dwi_pipeline.py` will execute the input python code. See [pipeline](https://axiezai.github.io/pipetography/pipeline.html) for an example.\n",
    "\n",
    "### Creating your own environment and install `pipetography` as a Python module:\n",
    "\n",
    "`pip install pipetography`\n",
    "\n",
    "Since `pipetography` is a `Nipype` wrapper around `mrtrix3`, `ANTs`, and `FSL`, you have to follow their installation instructions and set them up appropriately on your machine as well:    \n",
    " - [mrtrix3 v3.0.0](https://mrtrix.readthedocs.io/en/latest/installation/before_install.html)\n",
    " \n",
    " - [ANTs](https://github.com/ANTsX/ANTs/wiki/Compiling-ANTs-on-Linux-and-Mac-OS)\n",
    "     \n",
    " - [FSL](https://fsl.fmrib.ox.ac.uk/fsl/fslwiki/FslInstallation)\n",
    "  \n",
    "Everything listed in this section is included in the Singularity and Docker containers."
   ]
  },
  {
   "cell_type": "markdown",
   "metadata": {},
   "source": [
    "## The pipeline:"
   ]
  },
  {
   "cell_type": "markdown",
   "metadata": {},
   "source": [
    "Currently supports acquisitions with no reverse phase encoding (`-rpe_none`)  and reverse phase encoding in all DWI directions (`-rpe_all`) options. See [pipeline](https://axiezai.github.io/pipetography/pipeline.html) for preprocessing details, and [connectomes](https://axiezai.github.io/pipetography/connectomes.html) for postprocessing details."
   ]
  }
 ],
 "metadata": {
  "kernelspec": {
   "display_name": "Python 3",
   "language": "python",
   "name": "python3"
  }
 },
 "nbformat": 4,
 "nbformat_minor": 4
}
