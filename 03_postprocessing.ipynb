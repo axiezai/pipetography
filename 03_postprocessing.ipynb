{
 "cells": [
  {
   "cell_type": "code",
   "execution_count": null,
   "metadata": {},
   "outputs": [],
   "source": [
    "# default_exp postprocessing"
   ]
  },
  {
   "cell_type": "markdown",
   "metadata": {},
   "source": [
    "Module Postprocessing\n",
    "---\n",
    "\n",
    "Nipype interfaces for generating connectomes after pre-processing of DWI and `.trk` generation."
   ]
  },
  {
   "cell_type": "code",
   "execution_count": null,
   "metadata": {},
   "outputs": [],
   "source": [
    "#hide\n",
    "from nbdev.showdoc import *"
   ]
  },
  {
   "cell_type": "code",
   "execution_count": null,
   "metadata": {},
   "outputs": [],
   "source": [
    "#exporti\n",
    "from nipype.interfaces import ants\n",
    "from nipype.interfaces.io import SelectFiles, DataSink\n",
    "from nipype.interfaces.base import CommandLine, CommandLineInputSpec, File, TraitedSpec, traits"
   ]
  },
  {
   "cell_type": "markdown",
   "metadata": {},
   "source": [
    "#### Atlas files input:\n",
    "\n",
    "Use `IdentityInterface` as a node for atlas inputs. Atlas inputs as a list if constructing multiple connnectomes. Look-up tables should also be an input."
   ]
  },
  {
   "cell_type": "code",
   "execution_count": null,
   "metadata": {},
   "outputs": [],
   "source": [
    "atlas_dir = ''  # needs to be defined... either as an user input or pre-defined BIDS dir\n",
    "atlas_list = ''  # probably an input as well...\n",
    "\n",
    "# Node for IdentityInterface\n",
    "atlas_source = Node(IdentityInterface(fields = ['atlas_name']), name = 'atlas_source')\n",
    "atlas_source.iterables = [('atlas_name', atlas_list)]\n",
    "\n",
    "# Node for select files: actually selecting files\n",
    "template = {'atlas': atlas_dir + '{file_name}'}\n",
    "atlas_file = Node(SelectFiles(template), name = 'select_atlas')\n",
    "atlas_file.base_directory = atlas_dir"
   ]
  },
  {
   "cell_type": "markdown",
   "metadata": {},
   "source": [
    "Tracts `.trk` files input:"
   ]
  },
  {
   "cell_type": "code",
   "execution_count": null,
   "metadata": {},
   "outputs": [],
   "source": []
  },
  {
   "cell_type": "markdown",
   "metadata": {},
   "source": [
    "`ANTs` Registration:"
   ]
  },
  {
   "cell_type": "markdown",
   "metadata": {},
   "source": [
    "`tck2connectome` for connectivity matrix and distance adjacency matrix"
   ]
  },
  {
   "cell_type": "code",
   "execution_count": null,
   "metadata": {},
   "outputs": [],
   "source": []
  }
 ],
 "metadata": {
  "kernelspec": {
   "display_name": "tracts",
   "language": "python",
   "name": "tracts"
  }
 },
 "nbformat": 4,
 "nbformat_minor": 4
}
