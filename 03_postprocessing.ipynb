{
 "cells": [
  {
   "cell_type": "code",
   "execution_count": null,
   "metadata": {},
   "outputs": [],
   "source": [
    "# default_exp postprocessing"
   ]
  },
  {
   "cell_type": "markdown",
   "metadata": {},
   "source": [
    "Module Postprocessing\n",
    "---\n",
    "\n",
    "Nipype interfaces for generating connectomes after pre-processing of DWI and `.trk` generation."
   ]
  },
  {
   "cell_type": "code",
   "execution_count": null,
   "metadata": {},
   "outputs": [],
   "source": [
    "#hide\n",
    "from nbdev.showdoc import *"
   ]
  },
  {
   "cell_type": "code",
   "execution_count": null,
   "metadata": {},
   "outputs": [
    {
     "name": "stdout",
     "output_type": "stream",
     "text": [
      "201006-09:29:40,374 nipype.utils WARNING:\n",
      "\t A newer version (1.5.1) of nipy/nipype is available. You are using 1.5.0\n"
     ]
    }
   ],
   "source": [
    "#exporti\n",
    "\n",
    "import os\n",
    "\n",
    "from nipype import IdentityInterface\n",
    "from nipype.pipeline import Node, Workflow\n",
    "from nipype.interfaces.io import SelectFiles, DataSink\n",
    "from nipype.interfaces.base import CommandLine, CommandLineInputSpec, File, TraitedSpec, traits\n",
    "from nipype.interfaces.mrtrix3.connectivity import LabelConvert\n",
    "from nipype.interfaces.mrtrix3.utils import Generate5tt\n",
    "from nipype.interfaces.mrtrix3.preprocess import ResponseSD\n",
    "from nipype.interfaces.mrtrix3.reconst import EstimateFOD, ConstrainedSphericalDeconvolution\n",
    "from nipype.interfaces import ants"
   ]
  },
  {
   "cell_type": "markdown",
   "metadata": {},
   "source": [
    "### Atlas files input:\n",
    "\n",
    "Use `IdentityInterface` as a node for atlas inputs. Atlas inputs as a list if constructing multiple connnectomes. Look-up tables should also be an input. \n",
    "\n",
    "https://miykael.github.io/nipype_tutorial/notebooks/basic_data_input.html"
   ]
  },
  {
   "cell_type": "code",
   "execution_count": null,
   "metadata": {},
   "outputs": [
    {
     "name": "stdout",
     "output_type": "stream",
     "text": [
      "201001-10:14:41,949 nipype.workflow INFO:\n",
      "\t Workflow choose_atlas settings: ['check', 'execution', 'logging', 'monitoring']\n",
      "201001-10:14:41,960 nipype.workflow INFO:\n",
      "\t Running serially.\n",
      "201001-10:14:41,961 nipype.workflow INFO:\n",
      "\t [Node] Setting-up \"choose_atlas.select_atlas\" in \"/private/var/folders/26/ys2mhp6j58n047rd6tvx76sm0000gp/T/tmpwdjftgxd/choose_atlas/_atlas_name_desikan-killiany/select_atlas\".\n",
      "201001-10:14:41,966 nipype.workflow INFO:\n",
      "\t [Node] Running \"select_atlas\" (\"nipype.interfaces.io.SelectFiles\")\n",
      "201001-10:14:41,972 nipype.workflow INFO:\n",
      "\t [Node] Finished \"choose_atlas.select_atlas\".\n",
      "201001-10:14:41,973 nipype.workflow INFO:\n",
      "\t [Node] Setting-up \"choose_atlas.datasink\" in \"/private/var/folders/26/ys2mhp6j58n047rd6tvx76sm0000gp/T/tmp_gqjektk/choose_atlas/_atlas_name_desikan-killiany/datasink\".\n",
      "201001-10:14:41,980 nipype.workflow INFO:\n",
      "\t [Node] Running \"datasink\" (\"nipype.interfaces.io.DataSink\")\n",
      "201001-10:14:41,989 nipype.workflow INFO:\n",
      "\t [Node] Finished \"choose_atlas.datasink\".\n",
      "201001-10:14:41,990 nipype.workflow INFO:\n",
      "\t [Node] Setting-up \"choose_atlas.select_atlas\" in \"/private/var/folders/26/ys2mhp6j58n047rd6tvx76sm0000gp/T/tmppo4ajwax/choose_atlas/_atlas_name_brainnectome/select_atlas\".\n",
      "201001-10:14:41,996 nipype.workflow INFO:\n",
      "\t [Node] Running \"select_atlas\" (\"nipype.interfaces.io.SelectFiles\")\n",
      "201001-10:14:42,2 nipype.workflow INFO:\n",
      "\t [Node] Finished \"choose_atlas.select_atlas\".\n",
      "201001-10:14:42,3 nipype.workflow INFO:\n",
      "\t [Node] Setting-up \"choose_atlas.datasink\" in \"/private/var/folders/26/ys2mhp6j58n047rd6tvx76sm0000gp/T/tmpyg81ry_z/choose_atlas/_atlas_name_brainnectome/datasink\".\n",
      "201001-10:14:42,10 nipype.workflow INFO:\n",
      "\t [Node] Running \"datasink\" (\"nipype.interfaces.io.DataSink\")\n",
      "201001-10:14:42,16 nipype.workflow INFO:\n",
      "\t [Node] Finished \"choose_atlas.datasink\".\n",
      "total 936\n",
      "-r--r--r--@ 3 xxie  staff   172K Sep 30 16:09 BN_Atlas_246_1mm.nii.gz\n",
      "-r--r--r--  3 xxie  staff   292K Sep 30 19:35 DK_Atlas_86_1mm.nii.gz\n"
     ]
    }
   ],
   "source": [
    "#example\n",
    "#usage\n",
    "\n",
    "atlas_dir = '/Users/xxie/lab/Human_Brain_Atlases'  # needs to be defined... either as an user input or pre-defined BIDS dir\n",
    "atlas_list = ['brainnectome', 'desikan-killiany']  # probably an input as well, currently have LUT corrected images for desikan-killiany, brainnectome, aal\n",
    "\n",
    "# Node for IdentityInterface\n",
    "atlas_source = Node(IdentityInterface(fields = ['atlas_name']), \n",
    "                    name = 'atlas_source')\n",
    "atlas_source.iterables = [('atlas_name', atlas_list)]  # iterate over atlas input names\n",
    "\n",
    "# Node for select files: actually selecting files\n",
    "atlas_template = {\n",
    "    'atlases': os.path.join(\n",
    "        atlas_dir, '{atlas_name}', '*_1mm.nii.gz' \n",
    "    )\n",
    "}\n",
    "atlas_file = Node(\n",
    "    SelectFiles(atlas_template),\n",
    "    base_directory=atlas_dir,\n",
    "    name='select_atlas'\n",
    ")\n",
    "\n",
    "# Create datasink for selected files\n",
    "datasink = Node(DataSink(base_directory = '/Users/xxie/lab/pipetography/outputs',\n",
    "               container='datasink'),\n",
    "                name='datasink')\n",
    "\n",
    "wf_atlas = Workflow(name=\"choose_atlas\")\n",
    "wf_atlas.connect(atlas_source, 'atlas_name', atlas_file, 'atlas_name')\n",
    "wf_atlas.connect(atlas_file, 'atlases', datasink, 'atlases')\n",
    "wf_atlas.run()\n",
    "\n",
    "! ls -lh /Users/xxie/lab/pipetography/outputs/datasink/atlases/"
   ]
  },
  {
   "cell_type": "markdown",
   "metadata": {},
   "source": [
    "### Subject files input:\n",
    "\n",
    "Tracts `.tck` files input (need to convert from trk to tck if using NVIDIA cuda, currently included in shell script attached to NVIDIA singularity).\n",
    "\n",
    "Whole brain volume `T1.mgz` files input, these are outputs of freesurfer's `recon-all`, subsequently used to generate tissue segmented files. "
   ]
  },
  {
   "cell_type": "code",
   "execution_count": null,
   "metadata": {},
   "outputs": [
    {
     "name": "stdout",
     "output_type": "stream",
     "text": [
      "201001-11:20:16,355 nipype.workflow INFO:\n",
      "\t [Node] Setting-up \"subj_source\" in \"/private/var/folders/26/ys2mhp6j58n047rd6tvx76sm0000gp/T/tmpd8y9s0wa/subj_source\".\n",
      "201001-11:20:16,360 nipype.workflow INFO:\n",
      "\t [Node] Running \"subj_source\" (\"nipype.interfaces.utility.base.IdentityInterface\")\n",
      "201001-11:20:16,365 nipype.workflow INFO:\n",
      "\t [Node] Finished \"subj_source\".\n"
     ]
    },
    {
     "data": {
      "text/plain": [
       "\n",
       "session_id = 002\n",
       "subject_id = 01"
      ]
     },
     "execution_count": null,
     "metadata": {},
     "output_type": "execute_result"
    }
   ],
   "source": [
    "data_dir = '/Users/xxie/sample_data/dwipreproc'\n",
    "session_id = '002'\n",
    "subject_id = '01'\n",
    "\n",
    "subj_source = Node(IdentityInterface(fields=[\"subject_id\", \"session_id\"]), name = 'subj_source')\n",
    "subj_template = {\n",
    "    'tck': os.path.join(data_dir, 'cuda_tracking', '_session_id_{session_id}_subject_id_{subject_id}', 'sub-{subject_id}_ses-{session_id}.tck'),\n",
    "    'dwi': os.path.join(data_dir, 'derivatives', 'dwi_acpc_aligned_1mm', '_session_id_{session_id}_subject_id_{subject_id}', 'dwi_acpc_1mm.mif'),\n",
    "    'acpcT1':  os.path.join(data_dir, 'derivatives', 't1_acpc_aligned', '_session_id_{session_id}_subject_id_{subject_id}', 'acpc_t1.nii')\n",
    "}\n",
    "subj_source.inputs.subject_id = subject_id\n",
    "subj_source.inputs.session_id = session_id"
   ]
  },
  {
   "cell_type": "markdown",
   "metadata": {},
   "source": [
    "### ANTS Registration\n",
    "\n",
    "Align atlases to DWI images"
   ]
  },
  {
   "cell_type": "code",
   "execution_count": null,
   "metadata": {},
   "outputs": [
    {
     "data": {
      "text/plain": [
       "'antsRegistration --collapse-output-transforms 1 --dimensionality 3 --initialize-transforms-per-stage 0 --interpolation Linear --output [ atlas_in_dwi_affine, atlas_in_dwi_affine.nii.gz ] --transform Affine[ 0.1 ] --metric MI[ /Users/xxie/sample_data/dwipreproc/derivatives/preproc_mni/_session_id_002_subject_id_01/dwi_acpc_1mm_brain.nii.gz, /Users/xxie/lab/pipetography/outputs/datasink/atlases/DK_Atlas_86_1mm.nii.gz, 1, 64 ] --convergence [ 500x200x200x100, 1e-06, 10 ] --smoothing-sigmas 4.0x2.0x1.0x0.0vox --shrink-factors 8x4x2x1 --use-histogram-matching 1 --winsorize-image-intensities [ 0.0, 1.0 ]  --write-composite-transform 0'"
      ]
     },
     "execution_count": null,
     "metadata": {},
     "output_type": "execute_result"
    }
   ],
   "source": [
    "#example\n",
    "#usage\n",
    "\n",
    "linear_reg = ants.Registration()\n",
    "# Registration inputs:\n",
    "linear_reg.inputs.moving_image = '/Users/xxie/lab/pipetography/outputs/datasink/atlases/DK_Atlas_86_1mm.nii.gz' # need DIR to atlas\n",
    "linear_reg.inputs.fixed_image = '/Users/xxie/sample_data/dwipreproc/derivatives/preproc_mni/_session_id_002_subject_id_01/dwi_acpc_1mm_brain.nii.gz'  # Path to DWI brain\n",
    "linear_reg.inputs.output_transform_prefix = 'atlas_in_dwi_affine'\n",
    "linear_reg.inputs.dimension = 3 #-d\n",
    "# -tranform\n",
    "linear_reg.inputs.collapse_output_transforms = True # -z flag\n",
    "linear_reg.inputs.transforms = ['Affine']\n",
    "linear_reg.inputs.transform_parameters=[(0.1,)]\n",
    "# -metric\n",
    "linear_reg.inputs.metric = ['MI']\n",
    "linear_reg.inputs.metric_weight = [1] #default, value ignored by ANTS\n",
    "linear_reg.inputs.radius_or_number_of_bins = [64]\n",
    "# -convergence\n",
    "linear_reg.inputs.number_of_iterations = [[500,200,200,100]]\n",
    "linear_reg.inputs.convergence_threshold = [1e-06]\n",
    "linear_reg.inputs.convergence_window_size = [10]\n",
    "# -s\n",
    "linear_reg.inputs.smoothing_sigmas = [[4,2,1,0]]\n",
    "linear_reg.inputs.sigma_units = ['vox']\n",
    "# -f\n",
    "linear_reg.inputs.shrink_factors = [[8,4,2,1]]\n",
    "linear_reg.inputs.use_histogram_matching = [True] # -u flag\n",
    "linear_reg.inputs.output_warped_image = 'atlas_in_dwi_affine.nii.gz'\n",
    "\n",
    "# print command:\n",
    "linear_reg.cmdline\n",
    "\n",
    "# run:\n",
    "#linear_reg.run()"
   ]
  },
  {
   "cell_type": "code",
   "execution_count": null,
   "metadata": {},
   "outputs": [
    {
     "name": "stdout",
     "output_type": "stream",
     "text": [
      "antsRegistration --collapse-output-transforms 1 --dimensionality 3 --initialize-transforms-per-stage 0 --interpolation Linear --output [ atlas_in_dwi_syn, atlas_in_dwi_syn.nii.gz ] --transform SyN[ 0.1 ] --metric MI[ /Users/xxie/sample_data/dwipreproc/derivatives/preproc_mni/_session_id_002_subject_id_01/dwi_acpc_1mm_brain.nii.gz, atlas_in_dwi_affine.nii.gz, 1, 64 ] --convergence [ 500x200x200x100, 1e-06, 10 ] --smoothing-sigmas 4.0x2.0x1.0x0.0vox --shrink-factors 8x4x2x1 --use-histogram-matching 1 --winsorize-image-intensities [ 0.0, 1.0 ]  --write-composite-transform 0\n"
     ]
    },
    {
     "data": {
      "text/plain": [
       "<nipype.interfaces.base.support.InterfaceResult at 0x7f8fdb8b2d90>"
      ]
     },
     "execution_count": null,
     "metadata": {},
     "output_type": "execute_result"
    }
   ],
   "source": [
    "#example\n",
    "#usage\n",
    "\n",
    "#### additional nonlinear registration node:\n",
    "syn_reg = ants.Registration()\n",
    "# Registration inputs:\n",
    "syn_reg.inputs.moving_image = 'atlas_in_dwi_affine.nii.gz' # need DIR to atlas\n",
    "syn_reg.inputs.fixed_image = '/Users/xxie/sample_data/dwipreproc/derivatives/preproc_mni/_session_id_002_subject_id_01/dwi_acpc_1mm_brain.nii.gz'  # Path to DWI brain\n",
    "syn_reg.inputs.output_transform_prefix = 'atlas_in_dwi_syn'\n",
    "syn_reg.inputs.dimension = 3 #-d\n",
    "# -tranform\n",
    "syn_reg.inputs.collapse_output_transforms = True # -z flag\n",
    "syn_reg.inputs.transforms = ['SyN']\n",
    "syn_reg.inputs.transform_parameters=[(0.1,)]\n",
    "# -metric\n",
    "syn_reg.inputs.metric = ['MI']\n",
    "syn_reg.inputs.metric_weight = [1] #default, value ignored by ANTS\n",
    "syn_reg.inputs.radius_or_number_of_bins = [64]\n",
    "# -convergence\n",
    "syn_reg.inputs.number_of_iterations = [[500,200,200,100]]\n",
    "syn_reg.inputs.convergence_threshold = [1e-06]\n",
    "syn_reg.inputs.convergence_window_size = [10]\n",
    "# -s\n",
    "syn_reg.inputs.smoothing_sigmas = [[4,2,1,0]]\n",
    "syn_reg.inputs.sigma_units = ['vox']\n",
    "# -f\n",
    "syn_reg.inputs.shrink_factors = [[8,4,2,1]]\n",
    "syn_reg.inputs.use_histogram_matching = [True] # -u flag\n",
    "syn_reg.inputs.output_warped_image = 'atlas_in_dwi_syn.nii.gz'\n",
    "\n",
    "# print command\n",
    "print(syn_reg.cmdline)\n",
    "\n",
    "# run:\n",
    "syn_reg.run()"
   ]
  },
  {
   "cell_type": "markdown",
   "metadata": {},
   "source": [
    "### FOD Modeling\n",
    "\n",
    "Create white matter fiber orientation image. First use `dwi2response dhollander` to generate white matter, grey matter, and CSF spherical deconvolution response files, then use `dwi2fod msmt_csd` with a tissue response function input to generate FODs for the white matter, gray matter, and CSF."
   ]
  },
  {
   "cell_type": "code",
   "execution_count": null,
   "metadata": {},
   "outputs": [
    {
     "name": "stdout",
     "output_type": "stream",
     "text": [
      "dwi2response dhollander /Users/xxie/sample_data/dwipreproc/derivatives/dwi_acpc_aligned_1mm/_session_id_002_subject_id_01/dwi_acpc_1mm.mif outputs/wm.txt outputs/gm.txt outputs/csf.txt\n",
      "201001-12:50:17,695 nipype.interface INFO:\n",
      "\t stderr 2020-10-01T12:50:17.694795:dwi2response: \n",
      "201001-12:50:17,697 nipype.interface INFO:\n",
      "\t stderr 2020-10-01T12:50:17.694795:dwi2response: Note that this script makes use of commands / algorithms that have relevant articles for citation. Please consult the help page (-help option) for more information.\n",
      "201001-12:50:17,698 nipype.interface INFO:\n",
      "\t stderr 2020-10-01T12:50:17.694795:dwi2response: \n",
      "201001-12:50:17,699 nipype.interface INFO:\n",
      "\t stderr 2020-10-01T12:50:17.694795:dwi2response: Generated scratch directory: /Users/xxie/lab/pipetography/dwi2response-tmp-CRAAE3/\n",
      "201001-12:50:17,700 nipype.interface INFO:\n",
      "\t stderr 2020-10-01T12:50:17.694795:dwi2response: Importing DWI data (/Users/xxie/sample_data/dwipreproc/derivatives/dwi_acpc_aligned_1mm/_session_id_002_subject_id_01/dwi_acpc_1mm.mif)...\n",
      "201001-12:50:17,702 nipype.interface INFO:\n",
      "\t stderr 2020-10-01T12:50:17.694795:dwi2response: Changing to scratch directory (/Users/xxie/lab/pipetography/dwi2response-tmp-CRAAE3/)\n",
      "201001-12:50:17,703 nipype.interface INFO:\n",
      "\t stderr 2020-10-01T12:50:17.694795:dwi2response: Computing brain mask (dwi2mask)...\n",
      "201001-12:50:17,704 nipype.interface INFO:\n",
      "\t stderr 2020-10-01T12:50:17.694795:dwi2response: -------\n",
      "201001-12:50:17,705 nipype.interface INFO:\n",
      "\t stderr 2020-10-01T12:50:17.694795:dwi2response: 2 unique b-value(s) detected: 0,2000 with 1,55 volumes\n",
      "201001-12:50:17,706 nipype.interface INFO:\n",
      "\t stderr 2020-10-01T12:50:17.694795:dwi2response: -------\n",
      "201001-12:50:17,707 nipype.interface INFO:\n",
      "\t stderr 2020-10-01T12:50:17.694795:dwi2response: Preparation:\n",
      "201001-12:50:17,709 nipype.interface INFO:\n",
      "\t stderr 2020-10-01T12:50:17.694795:dwi2response: * Eroding brain mask by 3 pass(es)...\n",
      "201001-12:50:17,710 nipype.interface INFO:\n",
      "\t stderr 2020-10-01T12:50:17.694795:dwi2response:   [ mask: 1260474 -> 1088187 ]\n",
      "201001-12:50:17,711 nipype.interface INFO:\n",
      "\t stderr 2020-10-01T12:50:17.694795:dwi2response: * Computing signal decay metric (SDM):\n",
      "201001-12:50:17,712 nipype.interface INFO:\n",
      "\t stderr 2020-10-01T12:50:17.694795:dwi2response:  * b=0...\n",
      "201001-12:50:17,713 nipype.interface INFO:\n",
      "\t stderr 2020-10-01T12:50:17.694795:dwi2response:  * b=2000...\n",
      "201001-12:50:17,714 nipype.interface INFO:\n",
      "\t stderr 2020-10-01T12:50:17.694795:dwi2response: * Removing erroneous voxels from mask and correcting SDM...\n",
      "201001-12:50:17,715 nipype.interface INFO:\n",
      "\t stderr 2020-10-01T12:50:17.694795:dwi2response:   [ mask: 1088187 -> 1088098 ]\n",
      "201001-12:50:17,715 nipype.interface INFO:\n",
      "\t stderr 2020-10-01T12:50:17.694795:dwi2response: -------\n",
      "201001-12:50:17,716 nipype.interface INFO:\n",
      "\t stderr 2020-10-01T12:50:17.694795:dwi2response: Crude segmentation:\n",
      "201001-12:50:17,717 nipype.interface INFO:\n",
      "\t stderr 2020-10-01T12:50:17.694795:dwi2response: * Crude WM versus GM-CSF separation (at FA=0.2)...\n",
      "201001-12:50:17,718 nipype.interface INFO:\n",
      "\t stderr 2020-10-01T12:50:17.694795:dwi2response:   [ 1088098 -> 511289 (WM) & 576809 (GM-CSF) ]\n",
      "201001-12:50:17,719 nipype.interface INFO:\n",
      "\t stderr 2020-10-01T12:50:17.694795:dwi2response: * Crude GM versus CSF separation...\n",
      "201001-12:50:17,720 nipype.interface INFO:\n",
      "\t stderr 2020-10-01T12:50:17.694795:dwi2response:   [ 576809 -> 470115 (GM) & 106694 (CSF) ]\n",
      "201001-12:50:17,721 nipype.interface INFO:\n",
      "\t stderr 2020-10-01T12:50:17.694795:dwi2response: -------\n",
      "201001-12:50:17,722 nipype.interface INFO:\n",
      "\t stderr 2020-10-01T12:50:17.694795:dwi2response: Refined segmentation:\n",
      "201001-12:50:17,723 nipype.interface INFO:\n",
      "\t stderr 2020-10-01T12:50:17.694795:dwi2response: * Refining WM...\n",
      "201001-12:50:17,724 nipype.interface INFO:\n",
      "\t stderr 2020-10-01T12:50:17.694795:dwi2response:   [ WM: 511289 -> 461765 ]\n",
      "201001-12:50:17,725 nipype.interface INFO:\n",
      "\t stderr 2020-10-01T12:50:17.694795:dwi2response: * Refining GM...\n",
      "201001-12:50:17,725 nipype.interface INFO:\n",
      "\t stderr 2020-10-01T12:50:17.694795:dwi2response:   [ GM: 470115 -> 295829 ]\n",
      "201001-12:50:17,726 nipype.interface INFO:\n",
      "\t stderr 2020-10-01T12:50:17.694795:dwi2response: * Refining CSF...\n",
      "201001-12:50:17,727 nipype.interface INFO:\n",
      "\t stderr 2020-10-01T12:50:17.694795:dwi2response:   [ CSF: 106694 -> 54031 ]\n",
      "201001-12:50:17,728 nipype.interface INFO:\n",
      "\t stderr 2020-10-01T12:50:17.694795:dwi2response: -------\n",
      "201001-12:50:17,729 nipype.interface INFO:\n",
      "\t stderr 2020-10-01T12:50:17.694795:dwi2response: Final voxel selection and response function estimation:\n",
      "201001-12:50:17,730 nipype.interface INFO:\n",
      "\t stderr 2020-10-01T12:50:17.694795:dwi2response: * CSF:\n",
      "201001-12:50:17,731 nipype.interface INFO:\n",
      "\t stderr 2020-10-01T12:50:17.694795:dwi2response:  * Selecting final voxels (10.0% of refined CSF)...\n",
      "201001-12:50:17,732 nipype.interface INFO:\n",
      "\t stderr 2020-10-01T12:50:17.694795:dwi2response:    [ CSF: 54031 -> 5403 ]\n",
      "201001-12:50:17,733 nipype.interface INFO:\n",
      "\t stderr 2020-10-01T12:50:17.694795:dwi2response:  * Estimating response function...\n",
      "201001-12:50:17,735 nipype.interface INFO:\n",
      "\t stderr 2020-10-01T12:50:17.694795:dwi2response: * GM:\n",
      "201001-12:50:17,736 nipype.interface INFO:\n",
      "\t stderr 2020-10-01T12:50:17.694795:dwi2response:  * Selecting final voxels (2.0% of refined GM)...\n",
      "201001-12:50:17,738 nipype.interface INFO:\n",
      "\t stderr 2020-10-01T12:50:17.694795:dwi2response:    [ GM: 295829 -> 5917 ]\n",
      "201001-12:50:17,739 nipype.interface INFO:\n",
      "\t stderr 2020-10-01T12:50:17.694795:dwi2response:  * Estimating response function...\n",
      "201001-12:50:17,740 nipype.interface INFO:\n",
      "\t stderr 2020-10-01T12:50:17.694795:dwi2response: * Single-fibre WM:\n",
      "201001-12:50:17,742 nipype.interface INFO:\n",
      "\t stderr 2020-10-01T12:50:17.694795:dwi2response:  * Selecting final voxels (0.5% of refined WM)...\n",
      "201001-12:50:17,743 nipype.interface INFO:\n",
      "\t stderr 2020-10-01T12:50:17.694795:dwi2response:    Selecting WM single-fibre voxels using built-in (Dhollander et al., 2019) algorithm\n",
      "201001-12:50:17,744 nipype.interface INFO:\n",
      "\t stderr 2020-10-01T12:50:17.694795:dwi2response:    [ WM: 461765 -> 2309 (single-fibre) ]\n",
      "201001-12:50:17,745 nipype.interface INFO:\n",
      "\t stderr 2020-10-01T12:50:17.694795:dwi2response:  * Estimating response function...\n",
      "201001-12:50:17,747 nipype.interface INFO:\n",
      "\t stderr 2020-10-01T12:50:17.694795:dwi2response: -------\n",
      "201001-12:50:17,748 nipype.interface INFO:\n",
      "\t stderr 2020-10-01T12:50:17.694795:dwi2response: Generating outputs...\n",
      "201001-12:50:17,749 nipype.interface INFO:\n",
      "\t stderr 2020-10-01T12:50:17.694795:dwi2response: -------\n",
      "201001-12:50:17,750 nipype.interface INFO:\n",
      "\t stderr 2020-10-01T12:50:17.694795:dwi2response: Changing back to original directory (/Users/xxie/lab/pipetography)\n",
      "201001-12:50:17,751 nipype.interface INFO:\n",
      "\t stderr 2020-10-01T12:50:17.694795:dwi2response: Deleting scratch directory (/Users/xxie/lab/pipetography/dwi2response-tmp-CRAAE3/)\n"
     ]
    },
    {
     "data": {
      "text/plain": [
       "<nipype.interfaces.base.support.InterfaceResult at 0x7f8fdb8aaaf0>"
      ]
     },
     "execution_count": null,
     "metadata": {},
     "output_type": "execute_result"
    }
   ],
   "source": [
    "#example\n",
    "#usage\n",
    "\n",
    "#dwi2response\n",
    "dwi_resp = ResponseSD()\n",
    "dwi_resp.inputs.in_file = '/Users/xxie/sample_data/dwipreproc/derivatives/dwi_acpc_aligned_1mm/_session_id_002_subject_id_01/dwi_acpc_1mm.mif'  # input DWI.mif\n",
    "dwi_resp.inputs.algorithm = 'dhollander'  # choose between dhollander\n",
    "dwi_resp.inputs.wm_file = 'outputs/wm.txt'\n",
    "dwi_resp.inputs.gm_file = 'outputs/gm.txt'\n",
    "dwi_resp.inputs.csf_file = 'outputs/csf.txt'\n",
    "print(dwi_resp.cmdline)\n",
    "dwi_resp.run()"
   ]
  },
  {
   "cell_type": "code",
   "execution_count": null,
   "metadata": {},
   "outputs": [],
   "source": [
    "#exporti\n",
    "\n",
    "class dwiFODInputSpec(CommandLineInputSpec):\n",
    "    \"\"\"\n",
    "    dwi2fod: Estimate fibre orientation distributions from diffusion data using spherical deconvolution\n",
    "    \n",
    "    \"\"\"\n",
    "    in_file = File(\n",
    "        exists=True,\n",
    "        mandatory=True,\n",
    "        argstr=\"%s\",\n",
    "    )\n",
    "\n",
    "class dwiFOD(CommandLine):\n",
    "    _cmd = \"dwi2fod\"\n",
    "    input_spec = dwiFODInputSpec\n",
    "    output_spec = dwiFODOutputSpec\n",
    "    \n",
    "    def _list_outputs(self):\n",
    "        outputs = self.output_spec().get()\n",
    "        outputs[\"wm_odf\"] = op.abspath(self.inputs.wm_odf)\n",
    "        if self.inputs.gm_odf != Undefined:\n",
    "            outputs[\"gm_odf\"] = op.abspath(self.inputs.gm_odf)\n",
    "        if self.inputs.csf_odf != Undefined:\n",
    "            outputs[\"csf_odf\"] = op.abspath(self.inputs.csf_odf)\n",
    "        return outputs\n",
    "\n",
    "   "
   ]
  },
  {
   "cell_type": "code",
   "execution_count": null,
   "metadata": {},
   "outputs": [
    {
     "name": "stdout",
     "output_type": "stream",
     "text": [
      "dwi2fod -mask /Users/xxie/sample_data/dwipreproc/derivatives/preproc_mni/_session_id_002_subject_id_01/dwi_acpc_1mm_mask.nii.gz msmt_csd /Users/xxie/sample_data/dwipreproc/derivatives/dwi_acpc_aligned_1mm/_session_id_002_subject_id_01/dwi_acpc_1mm.mif outputs/wm.txt wm.mif outputs/gm.txt outputs/gm.mif outputs/csf.txt outputs/csf.mif\n",
      "201001-12:50:51,397 nipype.interface INFO:\n",
      "dwi2fod: [100%] uncompressing image \"/Users/xxie/sample_data/dwipreproc/derivatives/preproc_mni/_session_id_002_subject_id_01/dwi_acpc_1mm_mask.nii.gz\"\u001b[0K\u001b[0K\u001b[?7h\u001b[?7l\n",
      "201001-12:50:55,485 nipype.interface INFO:\n",
      "dwi2fod: [100%] preloading data for \"/Users/xxie/sample_data/dwipreproc/derivatives/dwi_acpc_aligned_1mm/_session_id_002_subject_id_01/dwi_acpc_1mm.mif\"\u001b[0K\u001b[0K\u001b[?7h\u001b[?7l\n",
      "201001-13:09:09,391 nipype.interface INFO:\n",
      "dwi2fod: [100%] performing MSMT CSD (2 shells, 3 tissues)\u001b[0K\u001b[0K\u001b[?7h\u001b[?7l\n"
     ]
    },
    {
     "data": {
      "text/plain": [
       "<nipype.interfaces.base.support.InterfaceResult at 0x7f8fdb8ac4c0>"
      ]
     },
     "execution_count": null,
     "metadata": {},
     "output_type": "execute_result"
    }
   ],
   "source": [
    "#dwi2fod\n",
    "dwi_fod = ConstrainedSphericalDeconvolution()\n",
    "dwi_fod.inputs.in_file = '/Users/xxie/sample_data/dwipreproc/derivatives/dwi_acpc_aligned_1mm/_session_id_002_subject_id_01/dwi_acpc_1mm.mif'  # input DWI.mif\n",
    "dwi_fod.inputs.algorithm = 'msmt_csd'  # choose between csd or msmt_csd for FOD algorithm\n",
    "dwi_fod.inputs.wm_txt = 'outputs/wm.txt'\n",
    "dwi_fod.inputs.gm_txt = 'outputs/gm.txt'\n",
    "dwi_fod.inputs.gm_odf = 'outputs/gm.mif'\n",
    "dwi_fod.inputs.csf_txt = 'outputs/csf.txt'\n",
    "dwi_fod.inputs.csf_odf = 'outputs/csf.mif'\n",
    "dwi_fod.inputs.mask_file = '/Users/xxie/sample_data/dwipreproc/derivatives/preproc_mni/_session_id_002_subject_id_01/dwi_acpc_1mm_mask.nii.gz'  # dwi brain mask\n",
    "print(dwi_fod.cmdline)\n",
    "dwi_fod.run()"
   ]
  },
  {
   "cell_type": "markdown",
   "metadata": {},
   "source": [
    "### Generate tissue type specific masks\n",
    "\n",
    "Use `fsl` algorithm to generate tissue specific `.mif` file with `5ttgen`"
   ]
  },
  {
   "cell_type": "code",
   "execution_count": null,
   "metadata": {},
   "outputs": [
    {
     "name": "stdout",
     "output_type": "stream",
     "text": [
      "5ttgen fsl /Users/xxie/sample_data/dwipreproc/derivatives/t1_acpc_aligned/_session_id_002_subject_id_01/acpc_t1.nii outputs/5tt.mif\n",
      "201001-13:31:42,27 nipype.interface INFO:\n",
      "\t stderr 2020-10-01T13:31:42.026983:5ttgen: \n",
      "201001-13:31:42,28 nipype.interface INFO:\n",
      "\t stderr 2020-10-01T13:31:42.026983:5ttgen: Note that this script makes use of commands / algorithms that have relevant articles for citation; INCLUDING FROM EXTERNAL SOFTWARE PACKAGES. Please consult the help page (-help option) for more information.\n",
      "201001-13:31:42,28 nipype.interface INFO:\n",
      "\t stderr 2020-10-01T13:31:42.026983:5ttgen: \n",
      "201001-13:31:42,29 nipype.interface INFO:\n",
      "\t stderr 2020-10-01T13:31:42.026983:5ttgen: Generated scratch directory: /Users/xxie/lab/pipetography/5ttgen-tmp-6PC6SA/\n",
      "201001-13:31:42,30 nipype.interface INFO:\n",
      "\t stderr 2020-10-01T13:31:42.026983:Command:  mrconvert /Users/xxie/sample_data/dwipreproc/derivatives/t1_acpc_aligned/_session_id_002_subject_id_01/acpc_t1.nii /Users/xxie/lab/pipetography/5ttgen-tmp-6PC6SA/input.mif\n",
      "201001-13:31:42,135 nipype.interface INFO:\n",
      "\t stderr 2020-10-01T13:31:42.135754:5ttgen: Changing to scratch directory (/Users/xxie/lab/pipetography/5ttgen-tmp-6PC6SA/)\n",
      "201001-13:31:42,136 nipype.interface INFO:\n",
      "\t stderr 2020-10-01T13:31:42.135754:Command:  mrconvert input.mif T1.nii -strides -1,+2,+3\n",
      "201001-13:31:42,226 nipype.interface INFO:\n",
      "\t stderr 2020-10-01T13:31:42.226195:Command:  maskfilter /usr/local/fsl/data/standard/MNI152_T1_1mm_brain_mask_dil.nii.gz dilate mni_mask.nii -npass 4\n",
      "201001-13:31:43,126 nipype.interface INFO:\n",
      "\t stderr 2020-10-01T13:31:43.126819:Command:  standard_space_roi T1.nii T1_preBET.nii.gz -maskMASK mni_mask.nii -roiFOV\n",
      "201001-13:32:19,283 nipype.interface INFO:\n",
      "\t stderr 2020-10-01T13:32:19.283474:Command:  bet T1_preBET.nii.gz T1_BET.nii.gz -f 0.15 -R\n",
      "201001-13:32:24,858 nipype.interface INFO:\n",
      "\t stderr 2020-10-01T13:32:24.858862:Command:  fast T1_BET.nii.gz\n",
      "201001-13:34:27,242 nipype.interface INFO:\n",
      "\t stderr 2020-10-01T13:34:27.242261:Command:  run_first_all -m none -s L_Accu,R_Accu,L_Caud,R_Caud,L_Pall,R_Pall,L_Puta,R_Puta,L_Thal,R_Thal -i T1.nii -o first\n",
      "201001-13:38:39,342 nipype.interface INFO:\n",
      "\t stderr 2020-10-01T13:38:39.342719:5ttgen: Generating partial volume images for SGM structures... [=======================================================]\n",
      "201001-13:38:39,344 nipype.interface INFO:\n",
      "\t stderr 2020-10-01T13:38:39.344766:Command:  mrmath [mesh2voxel_*.mif (10 items)] sum - | mrcalc - 1.0 -min all_sgms.mif\n",
      "201001-13:38:40,34 nipype.interface INFO:\n",
      "\t stderr 2020-10-01T13:38:40.034219:Command:  mrthreshold T1_BET_pve_2.nii.gz - -abs 0.001 | maskfilter - connect - -connectivity | mrcalc 1 - 1 -gt -sub remove_unconnected_wm_mask.mif -datatype bit\n",
      "201001-13:38:49,754 nipype.interface INFO:\n",
      "\t stderr 2020-10-01T13:38:49.754597:Command:  mrcalc T1_BET_pve_0.nii.gz remove_unconnected_wm_mask.mif -mult csf.mif\n",
      "201001-13:38:49,887 nipype.interface INFO:\n",
      "\t stderr 2020-10-01T13:38:49.887687:Command:  mrcalc 1.0 csf.mif -sub all_sgms.mif -min sgm.mif\n",
      "201001-13:38:49,980 nipype.interface INFO:\n",
      "\t stderr 2020-10-01T13:38:49.979975:Command:  mrcalc 1.0 csf.mif sgm.mif -add -sub T1_BET_pve_1.nii.gz T1_BET_pve_2.nii.gz -add -div multiplier.mif\n",
      "201001-13:38:50,223 nipype.interface INFO:\n",
      "\t stderr 2020-10-01T13:38:50.223361:Command:  mrcalc multiplier.mif -finite multiplier.mif 0.0 -if multiplier_noNAN.mif\n",
      "201001-13:38:50,310 nipype.interface INFO:\n",
      "\t stderr 2020-10-01T13:38:50.310897:Command:  mrcalc T1_BET_pve_1.nii.gz multiplier_noNAN.mif -mult remove_unconnected_wm_mask.mif -mult cgm.mif\n",
      "201001-13:38:50,472 nipype.interface INFO:\n",
      "\t stderr 2020-10-01T13:38:50.471979:Command:  mrcalc T1_BET_pve_2.nii.gz multiplier_noNAN.mif -mult remove_unconnected_wm_mask.mif -mult wm.mif\n",
      "201001-13:38:50,634 nipype.interface INFO:\n",
      "\t stderr 2020-10-01T13:38:50.634942:Command:  mrcalc 0 wm.mif -min path.mif\n",
      "201001-13:38:50,703 nipype.interface INFO:\n",
      "\t stderr 2020-10-01T13:38:50.703662:Command:  mrcat cgm.mif sgm.mif wm.mif csf.mif path.mif - -axis 3 | mrconvert - combined_precrop.mif -strides +2,+3,+4,+1\n",
      "201001-13:38:52,109 nipype.interface INFO:\n",
      "\t stderr 2020-10-01T13:38:52.109933:Command:  mrmath combined_precrop.mif sum - -axis 3 | mrthreshold - - -abs 0.5 | mrgrid combined_precrop.mif crop result.mif -mask -\n",
      "201001-13:39:00,612 nipype.interface INFO:\n",
      "\t stderr 2020-10-01T13:39:00.612240:Command:  mrconvert result.mif /Users/xxie/lab/pipetography/outputs/5tt.mif\n",
      "201001-13:39:00,920 nipype.interface INFO:\n",
      "\t stderr 2020-10-01T13:39:00.920545:Command:  5ttcheck result.mif\n",
      "201001-13:39:01,134 nipype.interface INFO:\n",
      "\t stderr 2020-10-01T13:39:01.134659:5ttgen: Changing back to original directory (/Users/xxie/lab/pipetography)\n",
      "201001-13:39:01,135 nipype.interface INFO:\n",
      "\t stderr 2020-10-01T13:39:01.134659:5ttgen: Deleting scratch directory (/Users/xxie/lab/pipetography/5ttgen-tmp-6PC6SA/)\n"
     ]
    },
    {
     "data": {
      "text/plain": [
       "<nipype.interfaces.base.support.InterfaceResult at 0x7f8fdb8d2d00>"
      ]
     },
     "execution_count": null,
     "metadata": {},
     "output_type": "execute_result"
    }
   ],
   "source": [
    "#example\n",
    "#usage\n",
    "gen5tt = Generate5tt()\n",
    "gen5tt.inputs.in_file = '/Users/xxie/sample_data/dwipreproc/derivatives/t1_acpc_aligned/_session_id_002_subject_id_01/acpc_t1.nii'  # T1 acpc aligned nifti\n",
    "gen5tt.inputs.algorithm = 'fsl'  # fsl or freesurfer, fsl is preferred in my opinion\n",
    "gen5tt.inputs.out_file = 'outputs/5tt.mif'\n",
    "# gen5tt.inputs.args = '-premasked'  # indicating a brain mask has already been applied to input image\n",
    "print(gen5tt.cmdline)\n",
    "gen5tt.run()"
   ]
  },
  {
   "cell_type": "markdown",
   "metadata": {},
   "source": [
    "### Mrtrix3 - SIFT2\n",
    "\n",
    "Spherical-deconvolution Informed Filtering of Tractograms (SIFT) `tcksift2`:"
   ]
  },
  {
   "cell_type": "code",
   "execution_count": null,
   "metadata": {},
   "outputs": [],
   "source": [
    "#exporti\n",
    "class tckSIFT2InputSpec(CommandLineInputSpec):\n",
    "    in_file = File(\n",
    "        exists=True,\n",
    "        mandatory=True,\n",
    "        argstr=\"%s\",\n",
    "        position=-3,\n",
    "        desc=\"input track file\"\n",
    "    )\n",
    "    in_fod = File(\n",
    "        exists=True,\n",
    "        mandatory=True,\n",
    "        argstr=\"%s\",\n",
    "        position=-2,\n",
    "        desc=\"input image containing the spherical harmonics of the fiber orientation distributions\"\n",
    "    )\n",
    "    out_file = File(\n",
    "        mandatory=True,\n",
    "        argstr=\"%s\",\n",
    "        desc=\"output weighting factor for each streamline\",\n",
    "        position=-1\n",
    "    )\n",
    "    proc_mask = File(\n",
    "        exists=True,\n",
    "        argstr=\"-proc_mask %s\",\n",
    "        desc=\"provide an image containing the processing mask weights for the model; image spatial dimensions must match the fixel image\"\n",
    "    )\n",
    "    act = File(\n",
    "        exists=True,\n",
    "        argstr=\"-act %s\",\n",
    "        desc=\"use an ACT five-tissue-type segmented anatomical image to derive the processing mask\"\n",
    "    )\n",
    "    fd_scale_gm = traits.Bool(\n",
    "        argstr=\"-fd_scale_gm\",\n",
    "        desc=\"in conjunction with -act to heuristically downsize the fibre density estimates based on the presence of GM in the voxel. This can assist in reducing tissue interface effects when using a single-tissue deconvolution algorithm\"\n",
    "    )\n",
    "    nthreads = traits.Int(\n",
    "        argstr=\"-nthreads %d\",\n",
    "        desc=\"number of threads. if zero, the number\" \" of available cpus will be used\",\n",
    "        nohash=True,\n",
    "    )\n",
    "    force = traits.Bool(\n",
    "        argstr=\"-force\",\n",
    "        desc=\"overwrite existing output file\"\n",
    "    )\n",
    "    \n",
    "class tckSIFT2OutputSpec(TraitedSpec):\n",
    "    out_file=File(argstr=\"%s\", desc=\"output text file containing the weighting factor for each streamline\")\n",
    "    \n",
    "class tckSIFT2(CommandLine):\n",
    "    \"\"\"\n",
    "    Interface with mrtrix3 package\n",
    "    Spherical-deconvolution informed filtering of tractograms - sift2\n",
    "    Optimise per-streamline cross-section multipliers to match a whole-brain tractogram to fixel-wise fibre densities\n",
    "    \"\"\"\n",
    "    _cmd=\"tcksift2\"\n",
    "    input_spec=tckSIFT2InputSpec\n",
    "    output_spec=tckSIFT2OutputSpec\n",
    "    \n",
    "    def _list_outputs(self):\n",
    "        outputs=self.output_spec().get()\n",
    "        outputs[\"out_file\"] = os.path.abspath(self.inputs.out_file)\n",
    "        return outputs"
   ]
  },
  {
   "cell_type": "code",
   "execution_count": null,
   "metadata": {},
   "outputs": [
    {
     "name": "stdout",
     "output_type": "stream",
     "text": [
      "tcksift2 -act outputs/5tt.mif -fd_scale_gm -force /Users/xxie/sample_data/dwipreproc/cuda_tracking/_session_id_002_subject_id_01/sub-01_ses-002_gmwmi2wm.tck outputs/wmfod.mif outputs/sift2.txt\n",
      "201006-09:06:56,480 nipype.interface INFO:\n",
      "\t stderr 2020-10-06T09:06:56.480315:tcksift2: \u001b[00;31m[WARNING] existing output files will be overwritten\u001b[0m\n",
      "201006-09:07:55,809 nipype.interface INFO:\n",
      "tcksift2: [100%] resampling ACT 5TT image to fixel image space\u001b[0K\u001b[0K\u001b[?7h\u001b[?7l\n",
      "201006-09:10:18,186 nipype.interface INFO:\n",
      "tcksift2: [100%] segmenting FODs\u001b[0K\u001b[0K\u001b[?7h\u001b[?7l\n",
      "201006-09:13:36,209 nipype.interface INFO:\n",
      "tcksift2: [100%] mapping tracks to image\u001b[0K\u001b[0K\u001b[?7h\u001b[?7l\n",
      "201006-09:13:40,264 nipype.interface INFO:\n",
      "\t stderr 2020-10-06T09:13:40.264178:tcksift2:   Iteration     CF (data)      CF (reg)     Streamlines\n",
      "201006-09:24:54,880 nipype.interface INFO:\n",
      "tcksift2: [done]        47        12.671%         1.106%        9342006\u001b[0K\u001b[?7h..\u001b[?7l\n",
      "201006-09:24:54,883 nipype.interface INFO:\n",
      "tcksift2: [done]        47        12.671%         1.106%        9342006\u001b[0K\n"
     ]
    },
    {
     "data": {
      "text/plain": [
       "<nipype.interfaces.base.support.InterfaceResult at 0x7f8fb84ef1c0>"
      ]
     },
     "execution_count": null,
     "metadata": {},
     "output_type": "execute_result"
    }
   ],
   "source": [
    "#usage\n",
    "#example\n",
    "\n",
    "sift2 = tckSIFT2()\n",
    "sift2.inputs.in_file = '/Users/xxie/sample_data/dwipreproc/cuda_tracking/_session_id_002_subject_id_01/sub-01_ses-002_gmwmi2wm.tck'\n",
    "sift2.inputs.in_fod = 'outputs/wmfod.mif'\n",
    "sift2.inputs.act = 'outputs/5tt.mif'\n",
    "sift2.inputs.fd_scale_gm = True\n",
    "sift2.inputs.out_file = 'outputs/sift2.txt'\n",
    "sift2.inputs.force=True\n",
    "print(sift2.cmdline)\n",
    "sift2.run()"
   ]
  },
  {
   "cell_type": "markdown",
   "metadata": {},
   "source": [
    "### Tweak Atlas labels with look up tables.\n",
    "\n",
    "mrtrix3's `labelconvert` and `labelsgmfix` if using freesurfer atlas.\n",
    "\n",
    "Use the nipype interface for `LabelConvert`, and declare a mrtrix3 path to its `/share/mrtrix3/labelconvert/` folder where the target connectome lookup tabel for output images reside. Available files include: \n",
    "\n",
    "    - aal.txt\n",
    "    - aal2.txt\n",
    "    - fs_default.txt\n",
    "    - hcpmmp1_ordered.txt\n",
    "    - hcpmmp1_original.txt\n",
    "    - lpba40.txt\n",
    "    - fs2lobes_cinginc_convert.txt\n",
    "    - fs2lobes_cinginc_labels.txt\n",
    "    - fs2lobes_cingsep_convert.txt\n",
    "    - fs2lobes_cingsep_labels.txt\n",
    "    \n",
    "Please refer to https://mrtrix.readthedocs.io/en/latest/quantitative_structural_connectivity/labelconvert_tutorial.html#labelconvert-tutorial for detailed explanation."
   ]
  },
  {
   "cell_type": "code",
   "execution_count": null,
   "metadata": {},
   "outputs": [],
   "source": [
    "mrt_labels = LabelConvert()\n",
    "mrt_labels.inputs.in_file = '/Users/xxie/lab/atlases/BN_Atlas_246_2mm.nii'\n",
    "mrt_labels.inputs.in_lut = '/Users/xxie/lab/atlases/BN_Atlas_246_LUT.txt'\n",
    "mrt_labels.inputs.cmdline"
   ]
  },
  {
   "cell_type": "markdown",
   "metadata": {},
   "source": [
    "### `tck2connectome` for connectivity matrix and distance adjacency matrix\n",
    "\n",
    "Connectivity matrix first:"
   ]
  },
  {
   "cell_type": "code",
   "execution_count": null,
   "metadata": {},
   "outputs": [],
   "source": [
    "#exporti\n",
    "class MakeConnectomeInputSpec(CommandLineInputSpec):\n",
    "    \"\"\"\n",
    "    Specifying inputs to mrtrix3's tck2connectome\n",
    "    \"\"\"\n",
    "    in_file = File(\n",
    "        exists=True, mandatory=True, argstr=\"%s\", position=-3, desc=\"input tck file\"\n",
    "    )\n",
    "    in_parc = File(\n",
    "        exists=True, argstr=\"%s\", position=-2, desc=\"parcellation file\"\n",
    "    )\n",
    "    out_file = File(\n",
    "        argstr=\"%s\",\n",
    "        mandatory=True,\n",
    "        position=-1,\n",
    "        desc=\"output file connectivity csv file\",\n",
    "    )\n",
    "    nthreads = traits.Int(\n",
    "        argstr=\"-nthreads %d\",\n",
    "        desc=\"number of threads. if zero, the number\" \" of available cpus will be used\",\n",
    "        nohash=True,\n",
    "    )\n",
    "    in_weights = File(\n",
    "        exists=True,\n",
    "        argstr=\"-tck_weights_in %s\",\n",
    "        desc=\"specify a text scalar file containing the streamline weights\",\n",
    "    )\n",
    "    scale_length=traits.Bool(\n",
    "        argstr=\"-scale_length\",\n",
    "        desc=\"scale each contribution to the connectome edge by the length of the streamline\"\n",
    "    )\n",
    "    stat_edge=traits.Enum(\n",
    "        \"sum\",\n",
    "        \"mean\",\n",
    "        \"min\",\n",
    "        \"max\",\n",
    "        argstr=\"-stat_edge %s\",\n",
    "        desc=\"statistic for combining the values from all streamlines in an edge into a single scale value for that edge (options are: sum,mean,min,max;default=sum)\"\n",
    "    )\n",
    "    symmetric=traits.Bool(\n",
    "        argstr='-symmetric',\n",
    "        desc='make matrices symmetric'\n",
    "    )\n",
    "    zero_diag=traits.Bool(\n",
    "        argstr='-zero_diagonal',\n",
    "        desc='set matrix diagonal to zero on output'\n",
    "    )\n",
    "    force = traits.Bool(\n",
    "        argstr='-force',\n",
    "        desc='overwrite existing output file'\n",
    "    )\n",
    "    \n",
    "class MakeConnectomeOutputSpec(TraitedSpec):\n",
    "    out_file = File(argstr=\"%s\", desc=\"output connectome csv file\")\n",
    "    \n",
    "class MakeConnectome(CommandLine):\n",
    "    \"\"\"\n",
    "    mrtrix3's tck2connectome interface\n",
    "    \"\"\"\n",
    "    _cmd=\"tck2connectome\"\n",
    "    input_spec = MakeConnectomeInputSpec\n",
    "    output_spec = MakeConnectomeOutputSpec\n",
    "    \n",
    "    def _list_outputs(self):\n",
    "        outputs=self.output_spec().get()\n",
    "        outputs[\"out_file\"] = os.path.abspath(self.inputs.out_file)\n",
    "        return outputs"
   ]
  },
  {
   "cell_type": "code",
   "execution_count": null,
   "metadata": {},
   "outputs": [
    {
     "name": "stdout",
     "output_type": "stream",
     "text": [
      "tck2connectome -force -tck_weights_in outputs/sift2.txt -symmetric -zero_diagonal /Users/xxie/sample_data/dwipreproc/cuda_tracking/_session_id_002_subject_id_01/sub-01_ses-002_gmwmi2wm.tck outputs/atlas_in_dwi_syn_int.nii.gz outputs/connectome.csv\n",
      "201006-09:49:58,950 nipype.interface INFO:\n",
      "\t stderr 2020-10-06T09:49:58.950005:tck2connectome: \u001b[00;31m[WARNING] existing output files will be overwritten\u001b[0m\n",
      "201006-09:49:58,951 nipype.interface INFO:\n",
      "\t stderr 2020-10-06T09:49:58.950005:tck2connectome: Image \"outputs/atlas_in_dwi_syn_int.nii.gz\" stored with floating-point type; need to check for non-integer or negative values\n",
      "201006-09:49:59,16 nipype.interface INFO:\n",
      "tck2connectome: [100%] uncompressing image \"outputs/atlas_in_dwi_syn_int.nii.gz\"\u001b[0K\u001b[0K\u001b[?7h\u001b[?7l\n",
      "201006-09:49:59,80 nipype.interface INFO:\n",
      "tck2connectome: [100%] Verifying parcellation image\u001b[0K\u001b[0K\u001b[?7h\u001b[?7l\n",
      "201006-09:49:59,129 nipype.interface INFO:\n",
      "tck2connectome: [100%] uncompressing image \"outputs/atlas_in_dwi_syn_int.nii.gz\"\u001b[0K\u001b[0K\u001b[?7h\u001b[?7l\n",
      "201006-09:50:41,959 nipype.interface INFO:\n",
      "tck2connectome: [100%] Constructing connectome\u001b[0K\u001b[0K\u001b[?7h\u001b[?7l\n"
     ]
    },
    {
     "data": {
      "text/plain": [
       "<nipype.interfaces.base.support.InterfaceResult at 0x7fd659c76cd0>"
      ]
     },
     "execution_count": null,
     "metadata": {},
     "output_type": "execute_result"
    }
   ],
   "source": [
    "#usage\n",
    "#example\n",
    "\n",
    "connectivity = MakeConnectome()\n",
    "connectivity.inputs.in_file = '/Users/xxie/sample_data/dwipreproc/cuda_tracking/_session_id_002_subject_id_01/sub-01_ses-002_gmwmi2wm.tck'\n",
    "connectivity.inputs.in_parc = 'outputs/atlas_in_dwi_syn_int.nii.gz'\n",
    "connectivity.inputs.out_file = 'outputs/connectome.csv'\n",
    "connectivity.inputs.in_weights = 'outputs/sift2.txt'\n",
    "connectivity.inputs.symmetric = True\n",
    "connectivity.inputs.zero_diag = True\n",
    "connectivity.inputs.force = True\n",
    "print(connectivity.cmdline)\n",
    "connectivity.run()"
   ]
  },
  {
   "cell_type": "markdown",
   "metadata": {},
   "source": [
    "Distance adjacency matrix:"
   ]
  },
  {
   "cell_type": "code",
   "execution_count": null,
   "metadata": {},
   "outputs": [
    {
     "name": "stdout",
     "output_type": "stream",
     "text": [
      "tck2connectome -force -scale_length -stat_edge mean -symmetric -zero_diagonal /Users/xxie/sample_data/dwipreproc/cuda_tracking/_session_id_002_subject_id_01/sub-01_ses-002_gmwmi2wm.tck outputs/atlas_in_dwi_syn_int.nii.gz outputs/distances.csv\n",
      "201006-09:50:50,96 nipype.interface INFO:\n",
      "\t stderr 2020-10-06T09:50:50.096641:tck2connectome: \u001b[00;31m[WARNING] existing output files will be overwritten\u001b[0m\n",
      "201006-09:50:50,98 nipype.interface INFO:\n",
      "\t stderr 2020-10-06T09:50:50.098551:tck2connectome: Image \"outputs/atlas_in_dwi_syn_int.nii.gz\" stored with floating-point type; need to check for non-integer or negative values\n",
      "201006-09:50:50,165 nipype.interface INFO:\n",
      "tck2connectome: [100%] uncompressing image \"outputs/atlas_in_dwi_syn_int.nii.gz\"\u001b[0K\u001b[0K\u001b[?7h\u001b[?7l\n",
      "201006-09:50:50,233 nipype.interface INFO:\n",
      "tck2connectome: [100%] Verifying parcellation image\u001b[0K\u001b[0K\u001b[?7h\u001b[?7l\n",
      "201006-09:50:50,288 nipype.interface INFO:\n",
      "tck2connectome: [100%] uncompressing image \"outputs/atlas_in_dwi_syn_int.nii.gz\"\u001b[0K\u001b[0K\u001b[?7h\u001b[?7l\n",
      "201006-09:51:23,174 nipype.interface INFO:\n",
      "tck2connectome: [100%] Constructing connectome\u001b[0K\u001b[0K\u001b[?7h\u001b[?7l\n"
     ]
    },
    {
     "data": {
      "text/plain": [
       "<nipype.interfaces.base.support.InterfaceResult at 0x7fd6597f8220>"
      ]
     },
     "execution_count": null,
     "metadata": {},
     "output_type": "execute_result"
    }
   ],
   "source": [
    "#usage\n",
    "#example\n",
    "\n",
    "distance = MakeConnectome()\n",
    "distance.inputs.in_file = '/Users/xxie/sample_data/dwipreproc/cuda_tracking/_session_id_002_subject_id_01/sub-01_ses-002_gmwmi2wm.tck'\n",
    "distance.inputs.in_parc = 'outputs/atlas_in_dwi_syn_int.nii.gz'\n",
    "distance.inputs.out_file = 'outputs/distances.csv'\n",
    "distance.inputs.scale_length = True\n",
    "distance.inputs.stat_edge = 'mean'\n",
    "distance.inputs.symmetric = True\n",
    "distance.inputs.zero_diag = True\n",
    "distance.inputs.force = True\n",
    "print(distance.cmdline)\n",
    "distance.run()"
   ]
  },
  {
   "cell_type": "markdown",
   "metadata": {},
   "source": [
    "Visualize:"
   ]
  },
  {
   "cell_type": "code",
   "execution_count": null,
   "metadata": {},
   "outputs": [
    {
     "name": "stderr",
     "output_type": "stream",
     "text": [
      "<ipython-input-47-b01e39945f7b>:12: RuntimeWarning: divide by zero encountered in log10\n",
      "  cdk=ax1.imshow(np.log10(CM), cmap = plt.get_cmap('inferno'), interpolation = 'nearest')\n"
     ]
    },
    {
     "data": {
      "image/png": "[encoded data removed]",
      "text/plain": [
       "<Figure size 864x864 with 4 Axes>"
      ]
     },
     "metadata": {
      "needs_background": "light"
     },
     "output_type": "display_data"
    }
   ],
   "source": [
    "import numpy as np\n",
    "import pandas as pd\n",
    "import matplotlib.pyplot as plt\n",
    "\n",
    "# load matrices:\n",
    "CM = pd.read_csv('outputs/connectome.csv', header = None)\n",
    "DM = pd.read_csv('outputs/distances.csv', header = None)\n",
    "\n",
    "# Visualize:\n",
    "fig, (ax1, ax2) = plt.subplots(1,2, sharey = True, figsize = (12,12))\n",
    "# log1p - calculates log(1+x)\n",
    "cdk=ax1.imshow(np.log10(CM), cmap = plt.get_cmap('inferno'), interpolation = 'nearest')\n",
    "ax1.set_title('DK86 Connectivity Matrix')\n",
    "cbar=fig.colorbar(cdk, ax=ax1, shrink=0.4)\n",
    "cbar.set_label('Log Scale Streamline Counts')\n",
    "\n",
    "ddk=ax2.imshow(DM, interpolation = 'nearest')\n",
    "ax2.set_title('DK86 Distance Adjacency Matrix')\n",
    "dbar=fig.colorbar(ddk, ax=ax2, shrink=0.4)\n",
    "dbar.set_label('Mean Streamline Length (mm)')"
   ]
  },
  {
   "cell_type": "code",
   "execution_count": null,
   "metadata": {},
   "outputs": [],
   "source": []
  }
 ],
 "metadata": {
  "kernelspec": {
   "display_name": "tracts",
   "language": "python",
   "name": "tracts"
  }
 },
 "nbformat": 4,
 "nbformat_minor": 4
}
