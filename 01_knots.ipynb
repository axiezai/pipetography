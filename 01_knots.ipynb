{
 "cells": [
  {
   "cell_type": "code",
   "execution_count": null,
   "metadata": {},
   "outputs": [],
   "source": [
    "# default_exp knots"
   ]
  },
  {
   "cell_type": "markdown",
   "metadata": {},
   "source": [
    "# Module knot\n",
    "\n",
    "> Here we have the Nodes wrapping around our core functions, which can be added to a Nipype workflow to process your input images. These definitions here are our custom functions and Nipype Nodes knotted together, which creates a workflow."
   ]
  },
  {
   "cell_type": "code",
   "execution_count": null,
   "metadata": {},
   "outputs": [],
   "source": [
    "#hide\n",
    "from nbdev.showdoc import *"
   ]
  },
  {
   "cell_type": "code",
   "execution_count": null,
   "metadata": {},
   "outputs": [],
   "source": [
    "%%capture\n",
    "#export\n",
    "import os\n",
    "\n",
    "from pipetography.core import *\n",
    "\n",
    "from nipype import IdentityInterface, Function\n",
    "from nipype.interfaces.io import SelectFiles\n",
    "from nipype.pipeline import Node"
   ]
  },
  {
   "cell_type": "markdown",
   "metadata": {},
   "source": [
    "Get images per subject with Nipype Node:"
   ]
  },
  {
   "cell_type": "code",
   "execution_count": null,
   "metadata": {},
   "outputs": [],
   "source": [
    "#export\n",
    "def BIDS_input(subject_list, sub_dir = 'data'):\n",
    "    \"\"\"\n",
    "    Create input data source as Nipype nodes\n",
    "    Arguments:\n",
    "        subjects_list : list of subjects in BIDS directory, output of `get_subs` function\n",
    "        sub_dir       : path to BIDS folder with subjects sub-folders\n",
    "    Returns:\n",
    "        sub_source : Nipype node of subject iterables\n",
    "        selectfiles: Nipype node of iterated subject's files\n",
    "    \"\"\"\n",
    "    # create iterable that sweeps all subjects:\n",
    "    sub_source = Node(IdentityInterface(fields = ['subject_id']), name = 'data_source')\n",
    "    sub_source.iterables = [('subject_id', subject_list)]\n",
    "    \n",
    "    # Select files based on BIDS structure template:\n",
    "    dwi_file = os.path.join('sub-{subject_id}', 'ses-*', 'dwi', 'sub-{subject_id}_ses-*_dwi.nii.gz')\n",
    "    bv_files = os.path.join('sub-{subject_id}', 'ses-1', 'dwi', 'sub-{subject_id}_ses-1_dwi.bv*')\n",
    "    templates = {'dwi': dwi_file, 'bvs': bv_files}\n",
    "    # then create Node:\n",
    "    select_files = Node(SelectFiles(templates, base_directory = sub_dir), name ='selectfiles')\n",
    "    \n",
    "    return sub_source, select_files"
   ]
  },
  {
   "cell_type": "code",
   "execution_count": null,
   "metadata": {},
   "outputs": [
    {
     "name": "stdout",
     "output_type": "stream",
     "text": [
      "Creating layout of data directory, might take a while if there are a lot of subjects\n"
     ]
    }
   ],
   "source": [
    "#example usage:\n",
    "sub_list = get_subs() # from pipetography.core, defaults to search 'data' folder\n",
    "sub_source, select_files = select_BIDS_files(subject_list = sub_list)"
   ]
  },
  {
   "cell_type": "markdown",
   "metadata": {},
   "source": [
    "Find `.bval/.bvec` files with Nipype Node:"
   ]
  },
  {
   "cell_type": "code",
   "execution_count": null,
   "metadata": {},
   "outputs": [],
   "source": [
    "#export\n",
    "def bfiles_input(BIDS_layout):\n",
    "    \"\"\"\n",
    "    Create Nipype node for bfiles data input\n",
    "    \"\"\"\n",
    "    bfiles_getter = Node(Function(input_names=['BIDS_layout'], output_names=['out_path'], function = get_bfiles), name = 'get_bfiles')\n",
    "    \n",
    "    return bfiles_getter"
   ]
  },
  {
   "cell_type": "code",
   "execution_count": null,
   "metadata": {},
   "outputs": [],
   "source": [
    "#example usage:\n"
   ]
  },
  {
   "cell_type": "markdown",
   "metadata": {},
   "source": [
    "Nodes for preprocessing steps:"
   ]
  },
  {
   "cell_type": "code",
   "execution_count": null,
   "metadata": {},
   "outputs": [],
   "source": []
  },
  {
   "cell_type": "code",
   "execution_count": null,
   "metadata": {},
   "outputs": [],
   "source": []
  },
  {
   "cell_type": "markdown",
   "metadata": {},
   "source": [
    "Node for atlas selection:"
   ]
  },
  {
   "cell_type": "code",
   "execution_count": null,
   "metadata": {},
   "outputs": [],
   "source": [
    "#export:\n",
    "def atlas_input(atlas_dir, atlas_names):\n",
    "    \"\"\"\n",
    "    Create Nipype node for selecting atlas images in `atlas_dir`, the node will iterate over `atlas_names`\n",
    "    Arguments:\n",
    "        atlas_dir (str): path to folder containing atlas volumes\n",
    "        atlas_names (List): List of strings matching the file names of each atlas you'd like to use\n",
    "    \"\"\"\n",
    "    atlas_source = Node(IdentityInterface(fields = ['atlas_name']), name = 'atlas_source')\n",
    "    atlas_source.iterables = [('atlas_name', atlas_names)]\n",
    "    atlas_template = {'atlas': atlas_dir + '{file_name}'}\n",
    "    select_atlas = Node(SelectFiles(template), name = 'select_atlas')\n",
    "    select_atlas.base_directory = atlas_dir\n",
    "    \n",
    "    return atlas_source, select_atlas"
   ]
  },
  {
   "cell_type": "code",
   "execution_count": null,
   "metadata": {},
   "outputs": [],
   "source": []
  },
  {
   "cell_type": "markdown",
   "metadata": {},
   "source": [
    "Node for connecting mask volume"
   ]
  },
  {
   "cell_type": "code",
   "execution_count": null,
   "metadata": {},
   "outputs": [],
   "source": [
    "#export\n",
    "def mask_input():\n",
    "    \n",
    "    return mask_tuple_getter"
   ]
  },
  {
   "cell_type": "markdown",
   "metadata": {},
   "source": [
    "A `pipeline` class that knots everything together."
   ]
  },
  {
   "cell_type": "code",
   "execution_count": null,
   "metadata": {},
   "outputs": [],
   "source": [
    "#export\n",
    "class pipeline():\n",
    "    \n",
    "    "
   ]
  }
 ],
 "metadata": {
  "kernelspec": {
   "display_name": "tracts",
   "language": "python",
   "name": "tracts"
  }
 },
 "nbformat": 4,
 "nbformat_minor": 4
}
