{
 "cells": [
  {
   "cell_type": "code",
   "execution_count": null,
   "metadata": {},
   "outputs": [],
   "source": [
    "# default_exp nodes"
   ]
  },
  {
   "cell_type": "markdown",
   "metadata": {},
   "source": [
    "# Module nodes\n",
    "\n",
    "> Class containing all Nodes and MapNodes."
   ]
  },
  {
   "cell_type": "code",
   "execution_count": null,
   "metadata": {},
   "outputs": [],
   "source": [
    "#hide\n",
    "from nbdev.showdoc import *"
   ]
  },
  {
   "cell_type": "code",
   "execution_count": null,
   "metadata": {},
   "outputs": [
    {
     "name": "stdout",
     "output_type": "stream",
     "text": [
      "200629-10:52:45,185 nipype.utils INFO:\n",
      "\t Running nipype version 1.5.0-rc1 (latest: 1.5.0)\n"
     ]
    }
   ],
   "source": [
    "#exporti\n",
    "import pipetography.core as ppt\n",
    "\n",
    "from nipype import IdentityInterface, Function\n",
    "from nipype.interfaces.io import SelectFiles, DataSink\n",
    "from nipype.pipeline import Node, MapNode, Workflow\n",
    "from nipype.interfaces.freesurfer.preprocess import ReconAll\n",
    "from nipype.interfaces.mrtrix3.utils import BrainMask, TensorMetrics, DWIExtract, MRMath\n",
    "from nipype.interfaces.mrtrix3.preprocess import MRDeGibbs, DWIBiasCorrect\n",
    "from nipype.interfaces.mrtrix3.reconst import FitTensor\n",
    "from nipype.interfaces import ants\n",
    "from nipype.interfaces import fsl"
   ]
  },
  {
   "cell_type": "code",
   "execution_count": null,
   "metadata": {},
   "outputs": [],
   "source": [
    "# export\n",
    "class PreProcNodes:\n",
    "    \"\"\"\n",
    "    All nodes in preprocessing pipeline\n",
    "    \"\"\"\n",
    "    \n",
    "    def __init__(self, sub_list):\n",
    "        self.subject_source = Node(IdentityInterface(fields=[\"subject_id\"]), name = \"sub_source\")\n",
    "        self.subject_source.iterables=[(\"subject_id\", sub_list)]"
   ]
  }
 ],
 "metadata": {
  "kernelspec": {
   "display_name": "tracts",
   "language": "python",
   "name": "tracts"
  }
 },
 "nbformat": 4,
 "nbformat_minor": 4
}
