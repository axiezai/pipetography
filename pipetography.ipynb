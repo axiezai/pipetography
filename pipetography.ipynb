{
 "cells": [
  {
   "cell_type": "code",
   "execution_count": null,
   "metadata": {},
   "outputs": [],
   "source": [
    "# default_exp pipetography"
   ]
  },
  {
   "cell_type": "markdown",
   "metadata": {},
   "source": [
    "# Pipetography\n",
    "\n",
    "> Nipype and mrtrix3 based pre-/post- processing pipeline for brain diffusion-MRI and generation of structural connectomes of the brain."
   ]
  },
  {
   "cell_type": "code",
   "execution_count": null,
   "metadata": {},
   "outputs": [],
   "source": [
    "#hide\n",
    "from nbdev.showdoc import *"
   ]
  },
  {
   "cell_type": "code",
   "execution_count": null,
   "metadata": {},
   "outputs": [],
   "source": [
    "# export\n",
    "import os, sys\n",
    "\n",
    "from nipype.interfaces.base import CommandLine, CommandLineInputSpec, File\n",
    "from nipype.interfaces.base import TraitedSpec, traits\n",
    "from nipype.interfaces.io import SelectFiles, DataSink, BIDSDataGrabber\n",
    "from bids.layout import BIDSLayout"
   ]
  },
  {
   "cell_type": "markdown",
   "metadata": {},
   "source": [
    "Environment testing before we move on to the actual code:"
   ]
  },
  {
   "cell_type": "code",
   "execution_count": null,
   "metadata": {},
   "outputs": [],
   "source": [
    "# test if our sample data can create BIDS layouts\n",
    "data_dir = 'data'\n",
    "\n",
    "## test datasets first:\n",
    "data1 = os.path.join(data_dir, 'diffantom-bids/')\n",
    "data2 = os.path.join(data_dir, 'healthy_control/')\n",
    "\n",
    "layout = BIDSLayout(data1)\n",
    "assert len(layout.get_subjects()) != 0\n",
    "assert type(layout.get_subjects() is list)\n",
    "\n",
    "layout = BIDSLayout(data2)\n",
    "assert len(layout.get_subjects()) != 0\n",
    "assert type(layout.get_subjects() is list)"
   ]
  },
  {
   "cell_type": "code",
   "execution_count": null,
   "metadata": {},
   "outputs": [],
   "source": [
    "# test if FSL is set up properly\n",
    "assert \"FSLOUTPUTTYPE\" in os.environ\n",
    "assert \"FSLDIR\" in os.environ\n",
    "if \"FSLOUTPUTTYPE\" in os.environ:\n",
    "    pass\n",
    "else:\n",
    "    sys.exit('FSLOUTPUTTYPE is not defined, make sure FSL is configured!')\n",
    "\n",
    "if \"FSLDIR\" in os.environ:\n",
    "    pass\n",
    "else:\n",
    "    sys.exit('FSLOUTPUTTYPE is not defined, make sure FSL is configured!')"
   ]
  },
  {
   "cell_type": "markdown",
   "metadata": {},
   "source": [
    "First function to grab bvals and bvecs as fslgradient inputs to mrtrix functions"
   ]
  },
  {
   "cell_type": "code",
   "execution_count": null,
   "metadata": {},
   "outputs": [],
   "source": [
    "#export\n",
    "def bfiles2tuple(in_List):\n",
    "    \"\"\"\n",
    "    read .bvec and .bval files in as a list and spit out tuple for nipype input\n",
    "    \"\"\"\n",
    "    bvs_tuple = tuple(in_List)[::-1]\n",
    "    return bvs_tuple"
   ]
  },
  {
   "cell_type": "code",
   "execution_count": null,
   "metadata": {},
   "outputs": [],
   "source": [
    "# example usage:\n",
    "\n",
    "subs = layout.get_subjects()\n",
    "dwi = layout.get(subject = subs, suffix = 'dwi', extensions = ['.nii', '.nii.gz'], return_type = 'file')\n",
    "bvs = layout.get(subject = subs, suffix = 'dwi', extensions = ['bvec', 'bval'], return_type = 'file')\n",
    "print(dwi)\n",
    "print(len(bvs))\n",
    "bfiles_out = bfiles2tuple(bvs)\n",
    "print(bfiles_out)"
   ]
  },
  {
   "cell_type": "code",
   "execution_count": null,
   "metadata": {},
   "outputs": [],
   "source": [
    "# test if bfiles are grabbed\n",
    "assert len(bfiles2tuple(bvs)) == 2"
   ]
  },
  {
   "cell_type": "code",
   "execution_count": null,
   "metadata": {},
   "outputs": [],
   "source": [
    "#export\n",
    "def mask2seedtuple(mask_file, grid_size):\n",
    "    \"\"\"\n",
    "    convert mask file into appropriate input tuple for nipype node\n",
    "    \"\"\"\n",
    "    seed_grid_tuple = (mask_file, grid_size,)\n",
    "    return seed_grid_tuple"
   ]
  }
 ],
 "metadata": {
  "kernelspec": {
   "display_name": "tracts",
   "language": "python",
   "name": "tracts"
  }
 },
 "nbformat": 4,
 "nbformat_minor": 4
}
