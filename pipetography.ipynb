{
 "cells": [
  {
   "cell_type": "code",
   "execution_count": null,
   "metadata": {},
   "outputs": [],
   "source": [
    "# default_exp core"
   ]
  },
  {
   "cell_type": "markdown",
   "metadata": {},
   "source": [
    "# Module core\n",
    "\n",
    "> Nipype and mrtrix3 based pre-/post- processing pipeline for brain diffusion-MRI and generation of structural connectomes of the brain. Here you will find both basic functions/classes as well as the Nipype Nodes that correspond to those functions/classes. The Nodes are connected into a Workflow to process your input images."
   ]
  },
  {
   "cell_type": "code",
   "execution_count": null,
   "metadata": {},
   "outputs": [],
   "source": [
    "#hide\n",
    "from nbdev.showdoc import *"
   ]
  },
  {
   "cell_type": "code",
   "execution_count": null,
   "metadata": {},
   "outputs": [],
   "source": [
    "%%capture\n",
    "# export\n",
    "import os, sys\n",
    "from nipype import IdentityInterface, Function\n",
    "from nipype.interfaces.base import CommandLine, CommandLineInputSpec, File\n",
    "from nipype.interfaces.base import TraitedSpec, traits\n",
    "from nipype.interfaces.io import SelectFiles, DataSink, BIDSDataGrabber\n",
    "from nipype.pipeline import Node\n",
    "from bids.layout import BIDSLayout"
   ]
  },
  {
   "cell_type": "markdown",
   "metadata": {},
   "source": [
    "Environment testing:"
   ]
  },
  {
   "cell_type": "code",
   "execution_count": null,
   "metadata": {},
   "outputs": [],
   "source": [
    "#test if our sample data can create BIDS layouts\n",
    "data_dir = 'data'\n",
    "\n",
    "## test datasets first:\n",
    "data1 = os.path.join(data_dir)\n",
    "#data2 = os.path.join(data_dir, 'healthy_control/')\n",
    "\n",
    "layout = BIDSLayout(data1)\n",
    "assert len(layout.get_subjects()) != 0\n",
    "assert type(layout.get_subjects() is list)\n",
    "\n",
    "#layout = BIDSLayout(data2)\n",
    "#assert len(layout.get_subjects()) != 0\n",
    "#assert type(layout.get_subjects() is list)"
   ]
  },
  {
   "cell_type": "code",
   "execution_count": null,
   "metadata": {},
   "outputs": [],
   "source": [
    "#test if FSL is set up properly\n",
    "assert \"FSLOUTPUTTYPE\" in os.environ\n",
    "assert \"FSLDIR\" in os.environ\n",
    "if \"FSLOUTPUTTYPE\" in os.environ:\n",
    "    pass\n",
    "else:\n",
    "    sys.exit('FSLOUTPUTTYPE is not defined, make sure FSL is configured!')\n",
    "\n",
    "if \"FSLDIR\" in os.environ:\n",
    "    pass\n",
    "else:\n",
    "    sys.exit('FSLOUTPUTTYPE is not defined, make sure FSL is configured!')"
   ]
  },
  {
   "cell_type": "markdown",
   "metadata": {},
   "source": [
    "### BIDS Data Input"
   ]
  },
  {
   "cell_type": "markdown",
   "metadata": {},
   "source": [
    "Get subjects from BIDS directory:"
   ]
  },
  {
   "cell_type": "code",
   "execution_count": null,
   "metadata": {},
   "outputs": [],
   "source": [
    "#export\n",
    "def get_subs(sub_dir = 'data'):\n",
    "    \"\"\"\n",
    "    Gets list of subjects in a BIDS directory, by default it looks in \"data\" folder in your CWD\n",
    "    Input str of path to BIDS dir otherwise\n",
    "    \"\"\"\n",
    "    print('Creating layout of data directory, might take a while if there are a lot of subjects')\n",
    "    layout = BIDSLayout(sub_dir)\n",
    "    sub_list = layout.get_subjects()\n",
    "    return sub_list"
   ]
  },
  {
   "cell_type": "code",
   "execution_count": null,
   "metadata": {},
   "outputs": [],
   "source": [
    "#example usage:\n",
    "sub_list = get_subs(data_dir)\n",
    "print(sub_list)"
   ]
  },
  {
   "cell_type": "code",
   "execution_count": null,
   "metadata": {},
   "outputs": [],
   "source": [
    "#test if subjects were all grabbed\n",
    "assert len(get_subs(data_dir)) == len(next(os.walk(data_dir))[1])"
   ]
  },
  {
   "cell_type": "markdown",
   "metadata": {},
   "source": [
    "Find FSL `.bval/.bvec` gradient file paths:"
   ]
  },
  {
   "cell_type": "code",
   "execution_count": null,
   "metadata": {},
   "outputs": [],
   "source": [
    "#export\n",
    "def bfiles2tuple(in_List):\n",
    "    \"\"\"\n",
    "    read .bvec and .bval files in as a list and spit out tuple for nipype input\n",
    "    \"\"\"\n",
    "    bvs_tuple = tuple(in_List)[::-1]\n",
    "    return bvs_tuple"
   ]
  },
  {
   "cell_type": "code",
   "execution_count": null,
   "metadata": {},
   "outputs": [],
   "source": [
    "#example usage:\n",
    "\n",
    "bvs = layout.get(subject = sub_list[0], suffix = 'dwi', session = 1, extensions = ['bvec', 'bval'], return_type = 'file')\n",
    "print(len(bvs))\n",
    "bfiles_fsl = bfiles2tuple(bvs)\n",
    "print(bfiles_fsl)"
   ]
  },
  {
   "cell_type": "code",
   "execution_count": null,
   "metadata": {},
   "outputs": [],
   "source": [
    "#test if bfiles are grabbed\n",
    "assert len(bfiles2tuple(bvs)) == 2"
   ]
  },
  {
   "cell_type": "markdown",
   "metadata": {},
   "source": [
    "Find `.bval/.bvec` files with Nipype Node:"
   ]
  },
  {
   "cell_type": "code",
   "execution_count": null,
   "metadata": {},
   "outputs": [],
   "source": [
    "#export\n",
    "def get_bfiles(in_List):\n",
    "    \"\"\"\n",
    "    Create Nipype node for bfiles data input\n",
    "    \"\"\"\n",
    "    bfiles_getter = Node(Function(input_names=['in_List'], output_names=['out_path'], function = bfiles2tuple), name = 'get_bfiles')\n",
    "    \n",
    "    return bfiles_getter"
   ]
  },
  {
   "cell_type": "markdown",
   "metadata": {},
   "source": [
    "Get dwi images:"
   ]
  },
  {
   "cell_type": "code",
   "execution_count": null,
   "metadata": {},
   "outputs": [],
   "source": [
    "#example usage\n",
    "dwi = layout.get(subject = sub_list[0], suffix = 'dwi', extensions = ['.nii', '.nii.gz'], return_type = 'file')"
   ]
  },
  {
   "cell_type": "code",
   "execution_count": null,
   "metadata": {},
   "outputs": [],
   "source": [
    "#test if all sessions are grabbed\n",
    "assert len(dwi) == len(layout.get_sessions())"
   ]
  },
  {
   "cell_type": "markdown",
   "metadata": {},
   "source": [
    "Select images and b-files from BIDS folder with Nipype Node:"
   ]
  },
  {
   "cell_type": "code",
   "execution_count": null,
   "metadata": {},
   "outputs": [],
   "source": [
    "#export\n",
    "\n",
    "def select_BIDS_files(subject_list, sub_dir = 'data'):\n",
    "    \"\"\"\n",
    "    Create input data source as Nipype nodes\n",
    "    Arguments:\n",
    "        subjects_list : list of subjects in BIDS directory, output of `get_subs` function\n",
    "        sub_dir       : path to BIDS folder with subjects sub-folders\n",
    "    Returns:\n",
    "        sub_source : Nipype node of subject iterables\n",
    "        selectfiles: Nipype node of\n",
    "    \"\"\"\n",
    "    # create iterable that sweeps all subjects:\n",
    "    sub_source = Node(IdentityInterface(fields = ['subject_id']), name = 'data_source')\n",
    "    sub_source.iterables = [('subject_id', subject_list)]\n",
    "    \n",
    "    # Select files based on BIDS structure template:\n",
    "    dwi_file = os.path.join('sub-{subject_id}', 'ses-*', 'dwi', 'sub-{subject_id}_ses-*_dwi.nii.gz')\n",
    "    bv_files = os.path.join('sub-{subject_id}', 'ses-1', 'dwi', 'sub-{subject_id}_ses-1_dwi.bv*')\n",
    "    templates = {'dwi': dwi_file, 'bvs': bv_files}\n",
    "    # then create Node:\n",
    "    selectfiles = Node(SelectFiles(templates, base_directory = sub_dir), name ='selectfiles')\n",
    "    \n",
    "    return sub_source, selectfiles"
   ]
  },
  {
   "cell_type": "markdown",
   "metadata": {},
   "source": [
    "Denoise DWI"
   ]
  },
  {
   "cell_type": "code",
   "execution_count": null,
   "metadata": {},
   "outputs": [],
   "source": [
    "#export\n",
    "class dwidenoiseInputSpec(CommandLineInputSpec):\n",
    "    \"\"\"\n",
    "    Specifying inputs to dwidenoise\n",
    "    \"\"\"\n",
    "    in_file = File(exists=True, mandatory=True, argstr = '%s', position = 1, desc = 'input image')\n",
    "    noise = File(mandatory=True, argstr = '-noise %s', position = 2, desc = 'output noise map')\n",
    "    out_file = File(mandatory = True, argstr = '%s', position = -1, desc = 'output denoised image')\n",
    "    quiet = traits.Str(argstr = '%s', position = 3, desc = 'suppress verbose outputs')\n",
    "    force = traits.Str(argstr = '%s', position = 4, desc = 'force output file if the file already exits')\n",
    "    nthreads = traits.Int(argstr = '-nthreads %d', position = 5, desc = 'use this number of threads')\n",
    "\n",
    "class dwidenoiseOutputSpec(TraitedSpec):\n",
    "    \"\"\"\n",
    "    Specifying outputs of dwidenoise\n",
    "    \"\"\"\n",
    "    noise = File(argstr = '%s', desc = 'output noise level map')\n",
    "    out_file = File(argstr = '%s', desc = 'output denoised file')\n",
    "    \n",
    "class dwidenoise(CommandLine):\n",
    "    \"\"\"\n",
    "    Denoise DWI data with mrtrix3's dwidenoise.\n",
    "    This should be performed as the first step of the preprocessing pipeline!\n",
    "    Arguments:\n",
    "        in_file (str): Input DWI image\n",
    "        noise (str): output noise map\n",
    "        out_file (str): output denoised image\n",
    "        quiet (str): whether we should suppress output\n",
    "        force (str): replace existing image (overwrite past runs outputs)\n",
    "        nthreads (int): number of threads to use\n",
    "    \"\"\"\n",
    "    _cmd = 'dwidenoise'\n",
    "    input_spec = dwidenoiseInputSpec\n",
    "    output_spec = dwidenoiseOutputSpec\n",
    "    \n",
    "    def _list_outputs(self):\n",
    "        outputs = self.output_spec().get()\n",
    "        outputs['noise'] = os.path.abspath(self.inputs.noise)\n",
    "        outputs['out_file'] = os.path.abspath(self.inputs.out_file)\n",
    "        return outputs"
   ]
  },
  {
   "cell_type": "code",
   "execution_count": null,
   "metadata": {},
   "outputs": [],
   "source": [
    "#example usage:\n",
    "import nibabel as nb\n",
    "from nilearn import plotting\n",
    "from nilearn.image import new_img_like\n",
    "\n",
    "denoise = dwidenoise()\n",
    "denoise.inputs.out_file = 'outputs/denoised.nii.gz'\n",
    "denoise.inputs.noise = 'outputs/noise.nii.gz'\n",
    "denoise.inputs.in_file = dwi[0] # the first session's image\n",
    "denoise.inputs.force = '-force'\n",
    "denoise.run();\n",
    "\n",
    "orig_dwi = nb.load(dwi[0]) # display dwi\n",
    "orig_data = orig_dwi.get_fdata()[:,:,:,0]\n",
    "orig_img = new_img_like(orig_dwi, orig_data, affine = orig_dwi.affine, copy_header = True)\n",
    "_ = plotting.plot_img(orig_img)\n",
    "\n",
    "_ = plotting.plot_img(denoise.inputs.noise)\n",
    "\n",
    "denoised_dwi = nb.load(denoise.inputs.out_file)\n",
    "denoised_data = denoised_dwi.get_fdata()[:,:,:,0]\n",
    "denoised_img = new_img_like(denoised_dwi, denoised_data, affine = denoised_dwi.affine, copy_header = True)\n",
    "_ = plotting.plot_img(denoised_img)"
   ]
  },
  {
   "cell_type": "code",
   "execution_count": null,
   "metadata": {},
   "outputs": [],
   "source": [
    "#test if denoised file exists\n",
    "from fastcore.test import *\n",
    "\n",
    "test_eq(os.path.exists(denoise.inputs.noise), True)\n",
    "test_eq(os.path.exists(denoise.inputs.out_file), True)"
   ]
  },
  {
   "cell_type": "markdown",
   "metadata": {},
   "source": [
    "Bias field correction:"
   ]
  },
  {
   "cell_type": "code",
   "execution_count": null,
   "metadata": {},
   "outputs": [],
   "source": [
    "#export\n",
    "class N4BiasFieldCorrectionInputSpec(CommandLineInputSpec):\n",
    "    \"\"\"\n",
    "    Input specifications\n",
    "    \"\"\"\n",
    "    in_file = File(exists=True, mandatory=True, argstr='-i %s',\n",
    "                  position = 1, desc = 'input denoised file')\n",
    "    dims = traits.Int(mandatory = True, argstr = '-d %d',\n",
    "                     position = 0, desc = 'dimension of input image')\n",
    "    out_file = File(mandatory=True, argstr='-o %s', position = 2,\n",
    "                         desc = 'the output image')\n",
    "\n",
    "class N4BiasFieldCorrectionOutputSpec(TraitedSpec):\n",
    "    \"\"\"\n",
    "    Output specifications\n",
    "    \"\"\"\n",
    "    out_file = File(desc = 'output denoised and bias corrected file')\n",
    "\n",
    "class N4BiasFieldCorrection(CommandLine):\n",
    "    \"\"\"\n",
    "    ANTs Bias field correction.\n",
    "    Arguments:\n",
    "        in_file (str) = input file, for the pipeline, connect the denoised dwi file here\n",
    "        dims (int)    = input volume dimensions, for dwi's the value is 4\n",
    "        outfile (str) = name of output file, for pipeline, connect this to datasink and next step\n",
    "    Returns:\n",
    "        out_file (str) = .nii.gz file output, bias field corrected image\n",
    "    \"\"\"\n",
    "    _cmd = 'N4BiasFieldCorrection'\n",
    "    input_spec = N4BiasFieldCorrectionInputSpec\n",
    "    output_spec = N4BiasFieldCorrectionOutputSpec\n",
    "\n",
    "    def _list_outputs(self):\n",
    "        outputs = self.output_spec().get()\n",
    "        outputs['out_file'] = os.path.abspath(self.inputs.out_file)\n",
    "        # Get the attribute saved during _run_interface\n",
    "        return outputs"
   ]
  },
  {
   "cell_type": "code",
   "execution_count": null,
   "metadata": {},
   "outputs": [],
   "source": [
    "#example usage\n",
    "ants_bfc = N4BiasFieldCorrection()\n",
    "ants_bfc.inputs.out_file = 'outputs/biasfieldcorrected.nii.gz'\n",
    "ants_bfc.inputs.dims = 4\n",
    "ants_bfc.inputs.in_file = 'outputs/denoised.nii.gz'\n",
    "ants_bfc.run()"
   ]
  },
  {
   "cell_type": "code",
   "execution_count": null,
   "metadata": {},
   "outputs": [],
   "source": [
    "#test if file output is correct\n",
    "test_eq(os.path.exists(ants_bfc.inputs.out_file), True)"
   ]
  },
  {
   "cell_type": "markdown",
   "metadata": {},
   "source": [
    "Motion and eddy current correction"
   ]
  },
  {
   "cell_type": "code",
   "execution_count": null,
   "metadata": {},
   "outputs": [],
   "source": [
    "#export\n",
    "class dwipreprocInputSpec(CommandLineInputSpec):\n",
    "    in_file = File(exists=True, mandatory = True, argstr='%s',\n",
    "                  position = 0, desc = 'input denoised, corrected file')\n",
    "    rpe_options = traits.Str(mandatory = True, argstr = '%s', position = 2,\n",
    "                            desc = 'acquisition phase-encoding design')\n",
    "    pe_dir = traits.Str(mandatory = True, argstr = '-pe_dir %s', position = 3,\n",
    "                       desc = 'phase encoding direction')\n",
    "    eddy_options = traits.Str(mandatory = False, argstr = '-eddy_options %s', position = 4,\n",
    "                             desc = 'eddy command options within quotation marks and contains at least one space')\n",
    "    nthreads = traits.Int(mandatory = False, argstr = '-nthreads %d', position = 5,\n",
    "                            desc = 'number of available CPUs to use, no input means all available CPUs')\n",
    "    grad_fsl = traits.Tuple((traits.Str, traits.Str), mandatory=True, argstr = '-fslgrad %s %s',\n",
    "                           position = 6, desc = 'provide gradient table in fsl format')\n",
    "    out_file = File(mandatory = True, argstr='%s', position = 1,\n",
    "                       desc = 'output denoised, corrected, preproc image')\n",
    "\n",
    "class dwipreprocOutputSpec(TraitedSpec):\n",
    "    out_file = File(argstr='%s', desc = 'output denoised, corrected, preproc image')\n",
    "\n",
    "class dwipreproc(CommandLine):\n",
    "    \"\"\"\n",
    "    mrtrix3 dwipreproc for motion/eddy current correction\n",
    "    Arguments: \n",
    "        in_file (str): input file that needs the artifact correction\n",
    "        rpe_options (str): phase-encoding design, see mrtrix3's dwipreproc for detail options\n",
    "        pe_dir (str): phase encoding directions, see mrtrix3's dwipreproc for detail options\n",
    "        eddy_options (str): eddy current correction options. see mrtrix3's dwipreproc for detail options\n",
    "        nthreads (int): number of threads used\n",
    "        grad_fsl (tuple): bvec/bval files\n",
    "        out_file (str): file name and path for output\n",
    "    Returns:\n",
    "        out_file (str): preprocessed file, this is the input to tractography.\n",
    "    \"\"\"\n",
    "    _cmd = 'dwipreproc'\n",
    "    input_spec = dwipreprocInputSpec\n",
    "    output_spec = dwipreprocOutputSpec\n",
    "\n",
    "    def _list_outputs(self):\n",
    "        outputs = self.output_spec().get()\n",
    "        outputs['out_file']=os.path.abspath(self.inputs.out_file)\n",
    "        return outputs"
   ]
  },
  {
   "cell_type": "code",
   "execution_count": null,
   "metadata": {},
   "outputs": [],
   "source": [
    "#example usage:\n",
    "preproc = dwipreproc()\n",
    "preproc.inputs.in_file = ants_bfc.inputs.out_file\n",
    "preproc.inputs.rpe_options = 'rpe_none'\n",
    "preproc.inputs.pe_dir = 'j-' #AP direction\n",
    "preproc.inputs.eddy_options = '\"--slm=linear \"'\n",
    "preproc.inputs.nthreads = 4\n",
    "preproc.inputs.grad_fsl = bfiles_fsl\n",
    "preproc.out_file = 'preproc.nii.gz'\n",
    "preproc.run()"
   ]
  },
  {
   "cell_type": "code",
   "execution_count": null,
   "metadata": {},
   "outputs": [],
   "source": [
    "# test if image has been produced\n",
    "test_eq(os.path.exists(preproc.inputs.out_file), True)"
   ]
  },
  {
   "cell_type": "markdown",
   "metadata": {},
   "source": [
    "Brain extraction function input format:"
   ]
  },
  {
   "cell_type": "code",
   "execution_count": null,
   "metadata": {},
   "outputs": [],
   "source": [
    "#export\n",
    "def mask2seedtuple(mask_file, grid_size):\n",
    "    seed_grid_tuple = (mask_file, grid_size,)\n",
    "    return seed_grid_tuple"
   ]
  }
 ],
 "metadata": {
  "kernelspec": {
   "display_name": "tracts",
   "language": "python",
   "name": "tracts"
  }
 },
 "nbformat": 4,
 "nbformat_minor": 4
}
