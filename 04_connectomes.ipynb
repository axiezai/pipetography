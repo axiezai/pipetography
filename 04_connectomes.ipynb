{
 "cells": [
  {
   "cell_type": "code",
   "execution_count": null,
   "metadata": {},
   "outputs": [],
   "source": [
    "# default_exp connectomes\""
   ]
  },
  {
   "cell_type": "markdown",
   "metadata": {},
   "source": [
    "Module connectomes\n",
    "---\n",
    "\n",
    "Pipeline making use of `postprocessing` nodes to generate a connectivity matrix and distance matrix."
   ]
  },
  {
   "cell_type": "code",
   "execution_count": null,
   "metadata": {},
   "outputs": [],
   "source": [
    "#hide\n",
    "from nbdev.showdoc import *"
   ]
  },
  {
   "cell_type": "code",
   "execution_count": null,
   "metadata": {},
   "outputs": [],
   "source": [
    "#exporti\n",
    "import os\n",
    "from pathlib import Path\n",
    "from nipype import IdentityInterface\n",
    "from nipype.pipeline import Node, Workflow\n",
    "from nipype.interfaces.io import SelectFiles, DataSink\n",
    "\n",
    "import pipetography.nodes as nodes"
   ]
  },
  {
   "cell_type": "code",
   "execution_count": null,
   "metadata": {},
   "outputs": [],
   "source": [
    "# export\n",
    "\n",
    "class connectome:\n",
    "    \"\"\"\n",
    "    Create a workflow that produces connectomes based on input atlases and streamlines\n",
    "    \n",
    "    Inputs:\n",
    "    atlas_dir (str): base directory of folder containing atlases\n",
    "    BIDS_dir (str): base BIDS directory path\n",
    "    atlas_list (List of strings): names of atlases: aal, brainnectome, desikan-killiany, default is set to brainnectome for now.\n",
    "    \"\"\"\n",
    "    \n",
    "    def __init__(self, atlas_dir, BIDS_dir, atlas_list=['brainnectome'], skip_tuples=[()]):\n",
    "        \"\"\"\n",
    "        Initialize workflow nodes\n",
    "        \"\"\"\n",
    "        self.BIDS = BIDS_dir\n",
    "        data_dir = os.path.join(Path(BIDS_dir).parent)\n",
    "        self.atlas_dir = atlas_dir\n",
    "        self.atlas_list = atlas_list\n",
    "        self.skip_combos = skip_tuples\n",
    "        self.atlas_template = {\n",
    "            \"atlases\": os.path.join(atlas_dir, \"{atlas_name}\", \"*_1mm.nii.gz\")\n",
    "        }\n",
    "        self.subject_template = {\n",
    "            'tck': os.path.join(data_dir, 'cuda_tracking', '_session_id_{session_id}_subject_id_{subject_id}',  'sub-{subject_id}_ses-{session_id}.tck'),\n",
    "            'dwi': os.path.join(data_dir, 'derivatives', 'preproc_mni', '_session_id_{session_id}_subject_id_{subject_id}', 'dwi_acpc_1mm.nii.gz'),\n",
    "            'T1A': os.path.join(data_dir, 'derivatives', 't1_acpc_aligned', '_session_id_{session_id}_subject_id_{subject_id}', 'acpc_t1.nii'),\n",
    "            'mask': os.path.join(data_dir, 'derivatives', 'preproc_mni', '_session_id_{session_id}_subject_id_{subject_id}', 'dwi_acpc_1mm_mask.nii.gz'),\n",
    "            'mr5tt': os.path.join(data_dir, 'derivatives', 'wm_mask', '_session_id_{session_id}_subject_id_{subject_id}', '5tt_wm.nii.gz')\n",
    "        }\n",
    "        \n",
    "        \n",
    "    def create_nodes(self):\n",
    "        \"\"\"\n",
    "        Create postprocessing nodes\n",
    "        \"\"\"\n",
    "        self.PostProcNodes = nodes.PostProcNodes(atlas_dir=self.atlas_dir, atlas_list=self.atlas_list, atlas_template = self.atlas_template, BIDS_dir=self.BIDS, subj_template = self.subject_template, skip_tuples = self.skip_combos)\n",
    "        self.PostProcNodes.set_inputs()\n",
    "        self.workflow = None\n",
    "        \n",
    "        \n",
    "    def connect_nodes(self, wf_name=\"connectomes\"):\n",
    "        \"\"\"\n",
    "        Connect postprocessing nodes into workflow\n",
    "        \"\"\"\n",
    "        self.workflow = Workflow(name=wf_name, base_dir=os.path.join(Path(self.BIDS).parent, 'derivatives'))\n",
    "        self.workflow.connect(\n",
    "            [\n",
    "                (self.PostProcNodes.subject_source, self.PostProcNodes.select_files, [('subject_id', 'subject_id'),\n",
    "                                                                                      ('session_id', 'session_id')]),\n",
    "                (self.PostProcNodes.atlas_source, self.PostProcNodes.select_atlases, [('atlas_name', 'atlas_name')]),\n",
    "                (self.PostProcNodes.select_files, self.PostProcNodes.linear_reg, [('dwi', 'fixed_image')]),\n",
    "                (self.PostProcNodes.select_atlases, self.PostProcNodes.linear_reg, [('atlases', 'moving_image')]),\n",
    "                (self.PostProcNodes.linear_reg, self.PostProcNodes.nonlinear_reg, [('warped_image', 'moving_image')]),\n",
    "                (self.PostProcNodes.select_files, self.PostProcNodes.nonlinear_reg, [('dwi', 'fixed_image')]),\n",
    "                (self.PostProcNodes.nonlinear_reg, self.PostProcNodes.round_atlas, [('warped_image', 'in_file')]),\n",
    "                (self.PostProcNodes.round_atlas, self.PostProcNodes.connectome, [('out_file', 'in_parc')]),\n",
    "                (self.PostProcNodes.round_atlas, self.PostProcNodes.distance, [('out_file', 'in_parc')]),\n",
    "                (self.PostProcNodes.select_files, self.PostProcNodes.response, [('dwi', 'in_file')]),\n",
    "                (self.PostProcNodes.select_files, self.PostProcNodes.fod, [('dwi', 'in_file')]),\n",
    "                (self.PostProcNodes.select_files, self.PostProcNodes.fod, [('mask', 'mask_file')]),\n",
    "                (self.PostProcNodes.response, self.PostProcNodes.fod, [('wm_file', 'wm_txt')]),\n",
    "                (self.PostProcNodes.response, self.PostProcNodes.fod, [('gm_file', 'gm_txt')]),\n",
    "                (self.PostProcNodes.response, self.PostProcNodes.fod, [('csf_file', 'csf_txt')]),\n",
    "                (self.PostProcNodes.select_files, self.PostProcNodes.sift2, [('mr5tt', 'act')]),\n",
    "                (self.PostProcNodes.select_files, self.PostProcNodes.sift2, [('tck', 'in_file')]),\n",
    "                (self.PostProcNodes.fod, self.PostProcNodes.sift2, [('wm_odf', 'in_fod')]),\n",
    "                (self.PostProcNodes.sift2, self.PostProcNodes.connectome, [('out_file', 'in_weights')]),\n",
    "                (self.PostProcNodes.select_files, self.PostProcNodes.connectome, [('tck', 'in_file')]),\n",
    "                (self.PostProcNodes.select_files, self.PostProcNodes.distance, [('tck', 'in_file')]),\n",
    "                (self.PostProcNodes.connectome, self.PostProcNodes.datasink, [('out_file', 'matrices.@connectome')]),\n",
    "                (self.PostProcNodes.distance, self.PostProcNodes.datasink, [('out_file', 'matrices.@distance')])\n",
    "            ])\n",
    "        \n",
    "    def draw_pipeline(self, graph_type='orig'):\n",
    "        \"\"\"\n",
    "        Visualize workflow\n",
    "        \"\"\"\n",
    "        self.workflow.write_graph(graph2use=graph_type, dotfilename='postprocess.dot')\n",
    "    \n",
    "    def run_pipeline(self, parallel=None):\n",
    "        \"\"\"\n",
    "        Run nipype workflow\n",
    "        \"\"\"\n",
    "        if type(parallel) == int:\n",
    "            print(\"Running workflow with {} parallel processes\".format(parallel))\n",
    "            self.workflow.run('MultiProc', plugin_args = {'n_procs': parallel})\n",
    "        elif parallel is None:\n",
    "            print(\"Parallel processing disabled, running workflow serially\")\n",
    "            self.workflow.run()"
   ]
  },
  {
   "cell_type": "markdown",
   "metadata": {},
   "source": [
    "## Example\n",
    "\n",
    "Workflow creating a connectivity matrix and a distance adjacency matrix for brainnectome and desikan-killiany atlas."
   ]
  },
  {
   "cell_type": "code",
   "execution_count": null,
   "metadata": {},
   "outputs": [],
   "source": [
    "#example\n",
    "post_wf = connectome(atlas_dir='/Users/xxie/lab/Human_Brain_Atlases', BIDS_dir='/Users/xxie/sample_data/dwipreproc/BIDS_output', atlas_list=['brainnectome', 'desikan-killiany'], skip_tuples=[('01', '003')])"
   ]
  },
  {
   "cell_type": "markdown",
   "metadata": {},
   "source": [
    "Take a look at the post-processing workflow:"
   ]
  },
  {
   "cell_type": "code",
   "execution_count": null,
   "metadata": {},
   "outputs": [],
   "source": [
    "#example\n",
    "from IPython.display import Image\n",
    "\n",
    "post_wf.create_nodes()\n",
    "post_wf.connect_nodes(wf_name='connectomes')\n",
    "post_wf.draw_pipeline(graph_type='flat')\n",
    "Image('/Users/xxie/sample_data/dwipreproc/derivatives/connectomes/postprocess.png')"
   ]
  },
  {
   "cell_type": "code",
   "execution_count": null,
   "metadata": {},
   "outputs": [],
   "source": [
    "#example\n",
    "post_wf.run_pipeline(parallel=2)"
   ]
  },
  {
   "cell_type": "code",
   "execution_count": null,
   "metadata": {},
   "outputs": [],
   "source": []
  }
 ],
 "metadata": {
  "kernelspec": {
   "display_name": "tracts",
   "language": "python",
   "name": "tracts"
  }
 },
 "nbformat": 4,
 "nbformat_minor": 4
}
