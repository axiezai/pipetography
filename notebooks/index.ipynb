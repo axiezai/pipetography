{
 "cells": [
  {
   "cell_type": "markdown",
   "metadata": {},
   "source": [
    "# Pipetography\n",
    "\n",
    "> Nipype and mrtrix3 based pre-/post- processing pipeline for brain diffusion-MRI and generation of structural connectomes of the brain."
   ]
  },
  {
   "cell_type": "markdown",
   "metadata": {},
   "source": [
    "![CI](https://github.com/axiezai/pipetography/workflows/CI/badge.svg)\n",
    "![docker](https://img.shields.io/docker/v/axiezai/pipetography)"
   ]
  },
  {
   "cell_type": "markdown",
   "metadata": {},
   "source": [
    "The pre-processing workflow has been updated to reflect what's seen in the optimal [DESIGNER pipeline](http://www.sciencedirect.com/science/article/pii/S1053811918306827) and on [mrtrix3 cloud apps on brainlife.io](https://brainlife.io). \n",
    "\n",
    "The post-processing pipeline, including co-registration of atlases and connectome generation is now included in the [connectomes] module"
   ]
  },
  {
   "cell_type": "markdown",
   "metadata": {},
   "source": [
    "## Install"
   ]
  },
  {
   "cell_type": "markdown",
   "metadata": {},
   "source": [
    "Since most usages will be on HPC resources, I <em>highly recommend</em> that you use the `Singularity` definition file in the repository instead of installing the Python module.\n",
    "\n",
    "#### Singularity:\n",
    " \n",
    " - This is a large image, you will need to set the following environment variables to somewhere other than `/tmp` if you want to avoid memory errors:\n",
    "     - `export SINGULARITY_TMPDIR={YOUR DESTINATION DIR}`\n",
    "     - `export SINGULARITY_LOCALCACHEDIR={YOUR DESTINATION DIR}`\n",
    "     - `export SINGULARITY_CACHEDIR={YOUR DESTINATION DIR}`\n",
    "     - `export SINGULARITY_PULLFOLDER={YOUR DESTINATION DIR}`\n",
    "     \n",
    " - Build the singularity image with the `singularity.def` file provided in Github, you will need to have `sudo` permissions to perform singularity build. If you run into memory problems, consider building as a sandbox at first with the `-s` flag. \n",
    "     - `sudo singularity build {image_file_name}.sif singularity.def`\n",
    "     \n",
    " - OR pull the built singularity image from cloud library:\n",
    "    - `singularity pull --arch amd64 library://axiezai/pipetography/pipetography:0.3.5`\n",
    " \n",
    " - To run interactively or as a job execution, you will need a few flags:\n",
    "     - `-e -c` flags for a clean environnment upon container start\n",
    "     - `-B` to bind your data & code directories.\n",
    "     - Example: `singularity shell -e -c -B <BIDS_DIR>:<SINGULARITY_BIDS_DIR> {Path to singularity .sif}`\n",
    "\n",
    "#### Creating your own environment and install `pipetography` as a Python module:\n",
    "\n",
    "`pip install pipetography`\n",
    "\n",
    "Since `pipetography` is a `Nipype` wrapper around `mrtrix3`, `ANTs`, and `FSL`, you have to follow their installation instructions and set them up appropriately on your machine as well:    \n",
    " - [mrtrix3 v3.0.0](https://mrtrix.readthedocs.io/en/latest/installation/before_install.html)\n",
    " \n",
    " - [ANTs](https://github.com/ANTsX/ANTs/wiki/Compiling-ANTs-on-Linux-and-Mac-OS)\n",
    "     \n",
    " - [FSL](https://fsl.fmrib.ox.ac.uk/fsl/fslwiki/FslInstallation)\n",
    "  \n",
    "Everything listed in this section is included in the Singularity and Docker containers."
   ]
  },
  {
   "cell_type": "markdown",
   "metadata": {},
   "source": [
    "## The pipeline:"
   ]
  },
  {
   "cell_type": "markdown",
   "metadata": {},
   "source": [
    "Currently supports acquisitions with no reverse phase encoding (`-rpe_none`)  and reverse phase encoding in all DWI directions (`-rpe_all`) options. See [pipeline] for preprocessing details, and [connectomes] for postprocessing details."
   ]
  },
  {
   "cell_type": "code",
   "execution_count": null,
   "metadata": {},
   "outputs": [],
   "source": []
  }
 ],
 "metadata": {
  "kernelspec": {
   "display_name": "Python 3",
   "language": "python",
   "name": "python3"
  }
 },
 "nbformat": 4,
 "nbformat_minor": 4
}
